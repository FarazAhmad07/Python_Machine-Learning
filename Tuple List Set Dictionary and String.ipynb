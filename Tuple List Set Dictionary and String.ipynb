{
 "cells": [
  {
   "cell_type": "markdown",
   "metadata": {},
   "source": [
    "## Python Lists\n",
    "\n",
    "#### Lists are used to store multiple items in a single variable.\n",
    "#### Lists are one of 4 built-in data types in Python used to store collections of data, the other 3 are Tuple, Set, and Dictionary, all with different qualities and usage.\n",
    "\n",
    "##### List is one of the sequence of the Data Structure\n",
    "##### Lists are collection of items[Strings, integer or even other lists]\n",
    "##### Lists are enclosed in []\n",
    "##### Each item in the list has an assigned index value.\n",
    "##### List are mutable, means item in the list can be changed.\n"
   ]
  },
  {
   "cell_type": "code",
   "execution_count": 25,
   "metadata": {},
   "outputs": [
    {
     "name": "stdout",
     "output_type": "stream",
     "text": [
      "[1, 'ramu', 24, 29.98] ['one', 'Two', 'Three', 'four']\n",
      "4\n"
     ]
    }
   ],
   "source": [
    "emptyList = []\n",
    "lst = [\"one\", \"Two\", \"Three\", \"four\"] # list of Strings\n",
    "lst2 = [1,2,3,4] # list of integers\n",
    "lst3 = [[1,2], [3,4]] # list of lists\n",
    "lst4 = [1, \"ramu\", 24, 29.98] #list of different datatypes\n",
    "\n",
    "print(lst4, lst)\n",
    "\n",
    "print(len(lst4)) # Lenth of the list"
   ]
  },
  {
   "cell_type": "code",
   "execution_count": 3,
   "metadata": {},
   "outputs": [
    {
     "name": "stdout",
     "output_type": "stream",
     "text": [
      "['One', 'Two', 'Three', 'Four', 'Five']\n"
     ]
    }
   ],
   "source": [
    "#List Append\n",
    "lst = [\"One\", \"Two\",\"Three\",\"Four\"]\n",
    "lst.append(\"Five\")\n",
    "print(lst)"
   ]
  },
  {
   "cell_type": "code",
   "execution_count": 26,
   "metadata": {},
   "outputs": [
    {
     "name": "stdout",
     "output_type": "stream",
     "text": [
      "['One', 'Two', 'Nine', 'Three', 'Four']\n"
     ]
    }
   ],
   "source": [
    "#List insert\n",
    "lst = [\"One\", \"Two\",\"Three\",\"Four\"]\n",
    "lst.insert(2,\"Nine\")\n",
    "print(lst)\n"
   ]
  },
  {
   "cell_type": "code",
   "execution_count": 27,
   "metadata": {},
   "outputs": [
    {
     "name": "stdout",
     "output_type": "stream",
     "text": [
      "['One', 'Three', 'Four', 'Two']\n"
     ]
    }
   ],
   "source": [
    "\n",
    "#List Remove\n",
    "lst = [\"One\", \"Two\",\"Three\",\"Four\", \"Two\"]\n",
    "lst.remove(\"Two\")\n",
    "print(lst)\n"
   ]
  },
  {
   "cell_type": "code",
   "execution_count": 28,
   "metadata": {},
   "outputs": [
    {
     "name": "stdout",
     "output_type": "stream",
     "text": [
      "['One', 'Three', 'Four']\n"
     ]
    }
   ],
   "source": [
    "lst = [\"One\", \"Two\", \"Three\", \"Four\", \"Two\"]\n",
    "\n",
    "# Remove all occurrences of \"Two\"\n",
    "while \"Two\" in lst:\n",
    "    lst.remove(\"Two\")\n",
    "\n",
    "print(lst)"
   ]
  },
  {
   "cell_type": "code",
   "execution_count": 6,
   "metadata": {},
   "outputs": [
    {
     "name": "stdout",
     "output_type": "stream",
     "text": [
      "['One', 'Two', 'Three', 'Four', ['One', 'Two', 'Three', 'Four', 'Five']]\n"
     ]
    }
   ],
   "source": [
    "#List append\n",
    "lst = [\"One\", \"Two\",\"Three\",\"Four\"]\n",
    "lst1 = [\"One\", \"Two\",\"Three\",\"Four\", \"Five\"]\n",
    "lst.append(lst1)\n",
    "print(lst)\n"
   ]
  },
  {
   "cell_type": "code",
   "execution_count": 7,
   "metadata": {},
   "outputs": [
    {
     "name": "stdout",
     "output_type": "stream",
     "text": [
      "['One', 'Two', 'Three', 'Four', 'One', 'Two', 'Three', 'Four', 'Five']\n"
     ]
    }
   ],
   "source": [
    "#List extend\n",
    "lst = [\"One\", \"Two\",\"Three\",\"Four\"]\n",
    "lst1 = [\"One\", \"Two\",\"Three\",\"Four\", \"Five\"]\n",
    "lst.extend(lst1)\n",
    "print(lst)"
   ]
  },
  {
   "cell_type": "code",
   "execution_count": 1,
   "metadata": {},
   "outputs": [
    {
     "name": "stdout",
     "output_type": "stream",
     "text": [
      "['One', 'Three', 'Four', 'Five']\n",
      "Three\n",
      "['One', 'Four', 'Five']\n",
      "['One', 'Four']\n"
     ]
    }
   ],
   "source": [
    "#List Delete, #remove\n",
    "lst1 = [\"One\", \"Two\",\"Three\",\"Four\", \"Five\"]\n",
    "del lst1[1]\n",
    "print(lst1)\n",
    "a= lst1.pop(1)\n",
    "print(a)\n",
    "print(lst1)\n",
    "lst1.remove(\"Five\")\n",
    "print(lst1)"
   ]
  },
  {
   "cell_type": "code",
   "execution_count": 9,
   "metadata": {},
   "outputs": [
    {
     "name": "stdout",
     "output_type": "stream",
     "text": [
      "AI\n",
      "ML\n"
     ]
    }
   ],
   "source": [
    "#Keyword 'in' is used to test if an item is in a list \n",
    "lst = ['one','two','three','four']\n",
    "if 'two' in lst:\n",
    "    print(\"AI\")\n",
    "if 'six' not in lst:\n",
    "    print(\"ML\")"
   ]
  },
  {
   "cell_type": "code",
   "execution_count": 10,
   "metadata": {},
   "outputs": [
    {
     "name": "stdout",
     "output_type": "stream",
     "text": [
      "['Four', 'Three', 'Two', 'one']\n"
     ]
    }
   ],
   "source": [
    "#List Reverse\n",
    "lst = [\"one\",\"Two\",\"Three\",\"Four\"]\n",
    "lst.reverse()\n",
    "print(lst)"
   ]
  },
  {
   "cell_type": "code",
   "execution_count": 11,
   "metadata": {},
   "outputs": [
    {
     "name": "stdout",
     "output_type": "stream",
     "text": [
      "[7, 9, 9, 23, 33, 44, 92]\n",
      "[92, 44, 33, 23, 9, 9, 7]\n"
     ]
    }
   ],
   "source": [
    "#Sorting both in ascending and descending orders\n",
    "numbers = [23,44,9,92,7,9,33]\n",
    "sorted_lst = sorted(numbers)\n",
    "print(sorted_lst)\n",
    "sorted_lst = sorted(numbers, reverse = True)\n",
    "print(sorted_lst)"
   ]
  },
  {
   "cell_type": "code",
   "execution_count": 12,
   "metadata": {},
   "outputs": [
    {
     "name": "stdout",
     "output_type": "stream",
     "text": [
      "[1, 4.3, 5, 5, 20]\n"
     ]
    }
   ],
   "source": [
    "\n",
    "lst = [1,20,5,5,4.3]\n",
    "lst.sort()\n",
    "print(lst) #sort the list and stored in itself\n"
   ]
  },
  {
   "cell_type": "code",
   "execution_count": 13,
   "metadata": {},
   "outputs": [
    {
     "ename": "TypeError",
     "evalue": "'<' not supported between instances of 'str' and 'int'",
     "output_type": "error",
     "traceback": [
      "\u001b[1;31m---------------------------------------------------------------------------\u001b[0m",
      "\u001b[1;31mTypeError\u001b[0m                                 Traceback (most recent call last)",
      "\u001b[1;32m<ipython-input-13-0d08dad6f2cb>\u001b[0m in \u001b[0;36m<module>\u001b[1;34m\u001b[0m\n\u001b[0;32m      1\u001b[0m \u001b[0mlst\u001b[0m \u001b[1;33m=\u001b[0m \u001b[1;33m[\u001b[0m\u001b[1;36m1\u001b[0m\u001b[1;33m,\u001b[0m\u001b[1;36m20\u001b[0m\u001b[1;33m,\u001b[0m\u001b[1;36m5\u001b[0m\u001b[1;33m,\u001b[0m\u001b[1;36m5\u001b[0m\u001b[1;33m,\u001b[0m\u001b[1;34m'b'\u001b[0m\u001b[1;33m,\u001b[0m\u001b[1;36m4.3\u001b[0m\u001b[1;33m]\u001b[0m\u001b[1;33m\u001b[0m\u001b[1;33m\u001b[0m\u001b[0m\n\u001b[1;32m----> 2\u001b[1;33m \u001b[0mlst\u001b[0m\u001b[1;33m.\u001b[0m\u001b[0msort\u001b[0m\u001b[1;33m(\u001b[0m\u001b[1;33m)\u001b[0m\u001b[1;33m\u001b[0m\u001b[1;33m\u001b[0m\u001b[0m\n\u001b[0m\u001b[0;32m      3\u001b[0m \u001b[1;31m#int and char are not sorted at once within the same list\u001b[0m\u001b[1;33m\u001b[0m\u001b[1;33m\u001b[0m\u001b[1;33m\u001b[0m\u001b[0m\n",
      "\u001b[1;31mTypeError\u001b[0m: '<' not supported between instances of 'str' and 'int'"
     ]
    }
   ],
   "source": [
    "lst = [1,20,5,5,'b',4.3]\n",
    "lst.sort()\n",
    "#int and char are not sorted at once within the same list"
   ]
  },
  {
   "cell_type": "code",
   "execution_count": 9,
   "metadata": {},
   "outputs": [
    {
     "name": "stdout",
     "output_type": "stream",
     "text": [
      "[1, 2, 3, 4, 5, 6]\n"
     ]
    }
   ],
   "source": [
    "#List Having Multiple References\n",
    "\n",
    "lst = [1,2,3,4,5]\n",
    "abc = lst\n",
    "abc.append(6)\n",
    "print(lst)"
   ]
  },
  {
   "cell_type": "code",
   "execution_count": 11,
   "metadata": {},
   "outputs": [
    {
     "name": "stdout",
     "output_type": "stream",
     "text": [
      "['My name is Faraz', \" I am Assistant Professor at Lingaya's Vidyapeeth\"]\n",
      "['My', 'name', 'is', 'Faraz,', 'I', 'am', 'Assistant', 'Professor', 'at', \"Lingaya's\", 'Vidyapeeth']\n"
     ]
    }
   ],
   "source": [
    "#String split to create a list using delimiter\n",
    "lst = \"My name is Faraz, I am Assistant Professor at Lingaya's Vidyapeeth\"\n",
    "a = lst.split(',')\n",
    "print(a)\n",
    "a = lst.split() # bydefault split is white-character: space or tab\n",
    "print(a)"
   ]
  },
  {
   "cell_type": "code",
   "execution_count": 29,
   "metadata": {},
   "outputs": [
    {
     "name": "stdout",
     "output_type": "stream",
     "text": [
      "2\n",
      "4\n"
     ]
    }
   ],
   "source": [
    "#List Indexing\n",
    "lst = [1,2,3,4]\n",
    "print(lst[1])\n",
    "print(lst[-1])\n"
   ]
  },
  {
   "cell_type": "code",
   "execution_count": 30,
   "metadata": {},
   "outputs": [
    {
     "name": "stdout",
     "output_type": "stream",
     "text": [
      "[1, 2, 3, 4, 5, 6]\n",
      "[1, 2, 3, 4]\n",
      "[1, 3, 5]\n",
      "[3, 5]\n"
     ]
    }
   ],
   "source": [
    "#List SLicing\n",
    "numbers = [1, 2, 3, 4, 5, 6]\n",
    "print(numbers[:])\n",
    "#print from index 0 to 3\n",
    "print(numbers[0:4])\n",
    "#numbers[startindex: endindex: stepsize]\n",
    "print(numbers[::2])\n",
    "print(numbers[2::2])"
   ]
  },
  {
   "cell_type": "code",
   "execution_count": 31,
   "metadata": {},
   "outputs": [
    {
     "name": "stdout",
     "output_type": "stream",
     "text": [
      "[1, 2, 3, 4, 5, 6, 'Naveen', 'Waseem']\n"
     ]
    }
   ],
   "source": [
    "#List extend using \"+\" sign\n",
    "lst1 = [1,2,3]\n",
    "lst2 = [4,5,6, \"Naveen\", \"Waseem\"]\n",
    "new_lst = lst1 + lst2\n",
    "print(new_lst)"
   ]
  },
  {
   "cell_type": "code",
   "execution_count": 32,
   "metadata": {},
   "outputs": [
    {
     "name": "stdout",
     "output_type": "stream",
     "text": [
      "4\n"
     ]
    }
   ],
   "source": [
    "#List Count\n",
    "numbers = [1,2,3,4,5,6,1,2,3,4,5,6,6,6,1,1,2,2,3,3,4]\n",
    "print(numbers.count(6))"
   ]
  },
  {
   "cell_type": "markdown",
   "metadata": {},
   "source": [
    "### Updating List Values"
   ]
  },
  {
   "cell_type": "code",
   "execution_count": 46,
   "metadata": {},
   "outputs": [
    {
     "name": "stdout",
     "output_type": "stream",
     "text": [
      "[1, 2, 3, 4, 5, 6]\n",
      "[1, 2, 10, 4, 5, 6]\n"
     ]
    }
   ],
   "source": [
    "# updating list values  \n",
    "list = [1, 2, 3, 4, 5, 6]       \n",
    "print(list)       \n",
    "# It will assign value to the value to the second index     \n",
    "list[2] = 10     \n",
    "print(list)      \n"
   ]
  },
  {
   "cell_type": "code",
   "execution_count": 47,
   "metadata": {},
   "outputs": [
    {
     "name": "stdout",
     "output_type": "stream",
     "text": [
      "[1, 89, 78, 4, 5, 6]\n"
     ]
    }
   ],
   "source": [
    "# Adding multiple-element     \n",
    "list[1:3] = [89, 78]       \n",
    "print(list)     \n",
    " "
   ]
  },
  {
   "cell_type": "code",
   "execution_count": null,
   "metadata": {},
   "outputs": [],
   "source": [
    "# It will add value at the end of the list    \n",
    "list[-1] = 25    \n",
    "print(list)   "
   ]
  },
  {
   "cell_type": "code",
   "execution_count": 17,
   "metadata": {},
   "outputs": [
    {
     "name": "stdout",
     "output_type": "stream",
     "text": [
      "1\n",
      "2\n",
      "3\n",
      "4\n",
      "5\n",
      "6\n",
      "1\n",
      "2\n",
      "3\n",
      "4\n",
      "5\n",
      "6\n",
      "6\n",
      "6\n",
      "1\n",
      "1\n",
      "2\n",
      "2\n",
      "3\n",
      "3\n",
      "4\n"
     ]
    }
   ],
   "source": [
    "\n",
    "#List looping\n",
    "numbers = [1,2,3,4,5,6,1,2,3,4,5,6,6,6,1,1,2,2,3,3,4]\n",
    "for i in numbers:\n",
    "    print(i)\n"
   ]
  },
  {
   "cell_type": "markdown",
   "metadata": {},
   "source": [
    "### Adding Elements to the List"
   ]
  },
  {
   "cell_type": "code",
   "execution_count": 48,
   "metadata": {},
   "outputs": [
    {
     "name": "stdout",
     "output_type": "stream",
     "text": [
      "Enter the number of elements in the list:5\n",
      "Enter the item:1\n",
      "Enter the item:2\n",
      "Enter the item:3\n",
      "Enter the item:\n",
      "Enter the item:4\n",
      "printing the list items..\n",
      "1  2  3    4  "
     ]
    }
   ],
   "source": [
    "#Declaring the empty list    \n",
    "l =[]    \n",
    "#Number of elements will be entered by the user      \n",
    "n = int(input(\"Enter the number of elements in the list:\"))    \n",
    "# for loop to take the input    \n",
    "for i in range(0,n):       \n",
    "    # The input is taken from the user and added to the list as the item    \n",
    "    l.append(input(\"Enter the item:\"))       \n",
    "print(\"printing the list items..\")     \n",
    "# traversal loop to print the list items      \n",
    "for i in l:     \n",
    "    print(i, end = \"  \")   "
   ]
  },
  {
   "cell_type": "markdown",
   "metadata": {},
   "source": [
    "### Python List Built-in Functions\n",
    "### Python provides the following built-in functions, which can be used with the lists.\n",
    "\n",
    "len()\n",
    "max()\n",
    "min()"
   ]
  },
  {
   "cell_type": "code",
   "execution_count": 49,
   "metadata": {},
   "outputs": [
    {
     "data": {
      "text/plain": [
       "6"
      ]
     },
     "execution_count": 49,
     "metadata": {},
     "output_type": "execute_result"
    }
   ],
   "source": [
    "# size of the list  \n",
    "# declaring the list  \n",
    "list1 = [12, 16, 18, 20, 39, 40]  \n",
    "# finding length of the list  \n",
    "len(list1)  "
   ]
  },
  {
   "cell_type": "code",
   "execution_count": 50,
   "metadata": {},
   "outputs": [
    {
     "name": "stdout",
     "output_type": "stream",
     "text": [
      "782\n"
     ]
    }
   ],
   "source": [
    "# maximum of the list  \n",
    "list1 = [103, 675, 321, 782, 200]  \n",
    "# large element in the list  \n",
    "print(max(list1))  "
   ]
  },
  {
   "cell_type": "code",
   "execution_count": 51,
   "metadata": {},
   "outputs": [
    {
     "name": "stdout",
     "output_type": "stream",
     "text": [
      "103\n"
     ]
    }
   ],
   "source": [
    "# minimum of the list  \n",
    "list1 = [103, 675, 321, 782, 200]  \n",
    "# smallest element in the list  \n",
    "print(min(list1))  "
   ]
  },
  {
   "cell_type": "markdown",
   "metadata": {},
   "source": [
    "##### List comprehension is a concise and powerful feature in Python that allows you to create new lists by applying expressions to each item in an existing iterable (e.g., list, tuple, string, etc.). It provides a compact and readable way to generate lists without the need for explicit loops.\n",
    "\n",
    "#### The basic syntax of a list comprehension is as follows:\n",
    "###### new_list = [expression for item in iterable if condition]"
   ]
  },
  {
   "cell_type": "code",
   "execution_count": 20,
   "metadata": {},
   "outputs": [
    {
     "name": "stdout",
     "output_type": "stream",
     "text": [
      "[0, 1, 4, 9, 16, 25, 36, 49, 64, 81]\n"
     ]
    }
   ],
   "source": [
    "#without list comprehension\n",
    "squares = []\n",
    "for i in range(10):\n",
    "    squares.append(i**2) #power operator\n",
    "print(squares)\n",
    "    "
   ]
  },
  {
   "cell_type": "code",
   "execution_count": 21,
   "metadata": {},
   "outputs": [
    {
     "name": "stdout",
     "output_type": "stream",
     "text": [
      "[0, 1, 4, 9, 16, 25, 36, 49, 64, 81]\n"
     ]
    }
   ],
   "source": [
    "#using list comprehension\n",
    "squares= [i**2 for i in range(10)]\n",
    "print(squares)\n"
   ]
  },
  {
   "cell_type": "code",
   "execution_count": 42,
   "metadata": {},
   "outputs": [
    {
     "name": "stdout",
     "output_type": "stream",
     "text": [
      "[1, 4, 9, 16, 25]\n"
     ]
    }
   ],
   "source": [
    "#Creating a list of squares of numbers from 1 to 5:\n",
    "squares = [x**2 for x in range(1, 6)]\n",
    "print(squares)\n"
   ]
  },
  {
   "cell_type": "code",
   "execution_count": 34,
   "metadata": {},
   "outputs": [
    {
     "name": "stdout",
     "output_type": "stream",
     "text": [
      "[100, 400, 900, 1600, 100, 400, 900, 1600]\n"
     ]
    }
   ],
   "source": [
    "lst = [-10,-20,-30,-40,10,20,30,40]\n",
    "new_lst = [i*2 for i in lst]\n",
    "print(new_lst)"
   ]
  },
  {
   "cell_type": "code",
   "execution_count": 35,
   "metadata": {},
   "outputs": [
    {
     "name": "stdout",
     "output_type": "stream",
     "text": [
      "[20, 40, 60, 80]\n"
     ]
    }
   ],
   "source": [
    "lst = [-10,-20,-30,-40,10,20,30,40]\n",
    "new_lst = [i*2 for i in lst if i>=0]\n",
    "print(new_lst)\n"
   ]
  },
  {
   "cell_type": "code",
   "execution_count": 36,
   "metadata": {},
   "outputs": [
    {
     "name": "stdout",
     "output_type": "stream",
     "text": [
      "[(10, 20), (20, 40), (30, 60), (40, 80)]\n"
     ]
    }
   ],
   "source": [
    "lst = [-10,-20,-30,-40,10,20,30,40]\n",
    "new_lst = [(i,i*2) for i in lst if i>=0]\n",
    "print(new_lst)\n"
   ]
  },
  {
   "cell_type": "code",
   "execution_count": 37,
   "metadata": {},
   "outputs": [
    {
     "name": "stdout",
     "output_type": "stream",
     "text": [
      "[(9, 18)]\n"
     ]
    }
   ],
   "source": [
    "new_lst = [(i,i*2) for i in range(10) if i>8]\n",
    "print(new_lst)"
   ]
  },
  {
   "cell_type": "code",
   "execution_count": 44,
   "metadata": {},
   "outputs": [
    {
     "name": "stdout",
     "output_type": "stream",
     "text": [
      "[2, 4, 6, 8, 10]\n"
     ]
    }
   ],
   "source": [
    "#Filtering out even numbers from a list:\n",
    "\n",
    "numbers = [1, 2, 3, 4, 5, 6, 7, 8, 9, 10]\n",
    "even_numbers = [x for x in numbers if x % 2 == 0]\n",
    "print(even_numbers)\n"
   ]
  },
  {
   "cell_type": "code",
   "execution_count": 45,
   "metadata": {},
   "outputs": [
    {
     "name": "stdout",
     "output_type": "stream",
     "text": [
      "['H', 'E', 'L', 'L', 'O', ' ', 'W', 'O', 'R', 'L', 'D']\n"
     ]
    }
   ],
   "source": [
    "#Converting string characters to uppercase:\n",
    "text = \"hello world\"\n",
    "uppercase_text = [char.upper() for char in text]\n",
    "print(uppercase_text)\n"
   ]
  },
  {
   "cell_type": "code",
   "execution_count": 39,
   "metadata": {},
   "outputs": [
    {
     "name": "stdout",
     "output_type": "stream",
     "text": [
      "[[1, 3, 5], [2, 4, 6], [3, 5, 7], [4, 6, 8]]\n"
     ]
    }
   ],
   "source": [
    "#with list comprehension\n",
    "trasnpose = [[row[i] for row in matrix] for i in range(4)]\n",
    "print(transpose)"
   ]
  },
  {
   "cell_type": "markdown",
   "metadata": {},
   "source": [
    "## Python Tuples\n",
    "### Tuples are an immutable data type, meaning their elements cannot be changed after they are generated.\n",
    "### Each element in a tuple has a specific order that will never change because tuples are ordered sequences."
   ]
  },
  {
   "cell_type": "markdown",
   "metadata": {},
   "source": [
    "### Forming a Tuple:\n",
    "### All the objects-also known as \"elements\"-must be separated by a comma, enclosed in parenthesis (). Although parentheses are not required, they are recommended.\n",
    "\n",
    "### Any number of items, including those with various data types (dictionary, string, float, list, etc.), can be contained in a tuple."
   ]
  },
  {
   "cell_type": "code",
   "execution_count": 69,
   "metadata": {},
   "outputs": [
    {
     "name": "stdout",
     "output_type": "stream",
     "text": [
      "Empty tuple:  ()\n",
      "Tuple with integers:  (4, 6, 8, 10, 12, 14)\n",
      "Tuple with different data types:  (4, 'Python', 9.3)\n",
      "A nested tuple:  ('Python', {4: 5, 6: 2, 8: 2}, (5, 3, 5, 6))\n"
     ]
    }
   ],
   "source": [
    "# Python program to show how to create a tuple    \n",
    "# Creating an empty tuple    \n",
    "empty_tuple = ()    \n",
    "print(\"Empty tuple: \", empty_tuple)    \n",
    "    \n",
    "# Creating tuple having integers    \n",
    "int_tuple = (4, 6, 8, 10, 12, 14)    \n",
    "print(\"Tuple with integers: \", int_tuple)    \n",
    "    \n",
    "# Creating a tuple having objects of different data types    \n",
    "mixed_tuple = (4, \"Python\", 9.3)    \n",
    "print(\"Tuple with different data types: \", mixed_tuple)    \n",
    "    \n",
    "# Creating a nested tuple    \n",
    "nested_tuple = (\"Python\", {4: 5, 6: 2, 8:2}, (5, 3, 5, 6))    \n",
    "print(\"A nested tuple: \", nested_tuple)    \n"
   ]
  },
  {
   "cell_type": "code",
   "execution_count": 72,
   "metadata": {},
   "outputs": [
    {
     "name": "stdout",
     "output_type": "stream",
     "text": [
      "(4, 5.7, 'Tuples', ['Python', 'Tuples'])\n",
      "<class 'tuple'>\n",
      "<class 'TypeError'>\n"
     ]
    }
   ],
   "source": [
    "# Python program to create a tuple without using parentheses    \n",
    "# Creating a tuple    \n",
    "tuple_ = 4, 5.7, \"Tuples\", [\"Python\", \"Tuples\"]    \n",
    "# Displaying the tuple created    \n",
    "print(tuple_)  \n",
    "# Checking the data type of object tuple_    \n",
    "print(type(tuple_) )    \n",
    "   "
   ]
  },
  {
   "cell_type": "code",
   "execution_count": 52,
   "metadata": {},
   "outputs": [
    {
     "name": "stdout",
     "output_type": "stream",
     "text": [
      "()\n",
      "(1, 2, 3)\n",
      "(1, 2, 'apple', 3, 'Raju', 4.44, 'Abc')\n",
      "(1, (1, 2, 3), [1, 2, 3, 'Raju', 'ABc', 2.22])\n"
     ]
    }
   ],
   "source": [
    "\n",
    "#tuple having integers\n",
    "t = (1,2,3)\n",
    "print(t)\n",
    "#tuple with mixed datatypes\n",
    "t = (1,2, \"apple\", 3, \"Raju\", 4.44, \"Abc\")\n",
    "print(t)\n",
    "#Nested Tuple\n",
    "t =(1, (1,2,3), [1,2,3,\"Raju\", \"ABc\",2.22])\n",
    "print(t)"
   ]
  },
  {
   "cell_type": "code",
   "execution_count": 53,
   "metadata": {},
   "outputs": [
    {
     "data": {
      "text/plain": [
       "str"
      ]
     },
     "execution_count": 53,
     "metadata": {},
     "output_type": "execute_result"
    }
   ],
   "source": [
    "#For tuple paranthesis is not enough\n",
    "t =(\"Satish\")\n",
    "type(t) # it is of string type instead of tuple\n"
   ]
  },
  {
   "cell_type": "code",
   "execution_count": 54,
   "metadata": {},
   "outputs": [
    {
     "data": {
      "text/plain": [
       "tuple"
      ]
     },
     "execution_count": 54,
     "metadata": {},
     "output_type": "execute_result"
    }
   ],
   "source": [
    "\n",
    "#we need to put comma at the end, However if we have more than one element that there will be no proble\n",
    "t = (\"Satish\",)\n",
    "type(t)"
   ]
  },
  {
   "cell_type": "code",
   "execution_count": 55,
   "metadata": {},
   "outputs": [
    {
     "name": "stdout",
     "output_type": "stream",
     "text": [
      "<class 'tuple'>\n",
      "('Satish',)\n"
     ]
    }
   ],
   "source": [
    "#Paranthesis is optional\n",
    "t = \"Satish\",\n",
    "print(type(t))\n",
    "print(t)\n"
   ]
  },
  {
   "cell_type": "code",
   "execution_count": 56,
   "metadata": {},
   "outputs": [
    {
     "name": "stdout",
     "output_type": "stream",
     "text": [
      "apple\n"
     ]
    }
   ],
   "source": [
    "#Accessing Elements in Tuple\n",
    "t = (1,2, \"apple\", 3, \"Raju\", 4.44, \"Abc\")\n",
    "print(t[2])"
   ]
  },
  {
   "cell_type": "markdown",
   "metadata": {},
   "source": [
    "### Slicing\n",
    "### Tuple slicing is a common practice in Python and the most common way for programmers to deal with practical issues. Look at a tuple in Python. Slice a tuple to access a variety of its elements. Using the colon as a straightforward slicing operator (:) is one strategy.\n",
    "\n",
    "### To gain access to various tuple elements, we can use the slicing operator colon (:)."
   ]
  },
  {
   "cell_type": "code",
   "execution_count": 74,
   "metadata": {},
   "outputs": [
    {
     "name": "stdout",
     "output_type": "stream",
     "text": [
      "Elements between indices 1 and 3:  ('Tuple', 'Ordered')\n",
      "Elements between indices 0 and -4:  ('Python', 'Tuple')\n",
      "Entire tuple:  ('Python', 'Tuple', 'Ordered', 'Immutable', 'Collection', 'Objects')\n"
     ]
    }
   ],
   "source": [
    "# Python program to show how slicing works in Python tuples    \n",
    "# Creating a tuple    \n",
    "tuple = (\"Python\", \"Tuple\", \"Ordered\", \"Immutable\", \"Collection\", \"Objects\")    \n",
    "\n",
    "# Using slicing to access elements of the tuple    \n",
    "print(\"Elements between indices 1 and 3: \", tuple[1:3])    \n",
    "\n",
    "# Using negative indexing in slicing    \n",
    "print(\"Elements between indices 0 and -4: \", tuple[:-4])    \n",
    "\n",
    "# Printing the entire tuple by using the default start and end values.     \n",
    "print(\"Entire tuple: \", tuple[:])    "
   ]
  },
  {
   "cell_type": "code",
   "execution_count": 57,
   "metadata": {},
   "outputs": [
    {
     "name": "stdout",
     "output_type": "stream",
     "text": [
      "[1, 2, 3, 'Raju', 'ABc', 2.22]\n",
      "Raju\n",
      "(1, 2, 3)\n"
     ]
    }
   ],
   "source": [
    "t =(1, (1,2,3), [1,2,3,\"Raju\", \"ABc\",2.22])\n",
    "print(t[2])\n",
    "print(t[2][3])\n",
    "print(t[-2])"
   ]
  },
  {
   "cell_type": "code",
   "execution_count": 58,
   "metadata": {},
   "outputs": [
    {
     "name": "stdout",
     "output_type": "stream",
     "text": [
      "(2, 3, 4)\n",
      "(1, 3, 5)\n",
      "(1, 2, 3, 4)\n",
      "(1, 3, 5)\n"
     ]
    }
   ],
   "source": [
    "t = (1,2,3,4,5,6)\n",
    "print(t[1:4])\n",
    "print(t[0:5:2])\n",
    "print(t[:-2])\n",
    "print(t[:-1:2])"
   ]
  },
  {
   "cell_type": "code",
   "execution_count": 59,
   "metadata": {},
   "outputs": [
    {
     "ename": "TypeError",
     "evalue": "'tuple' object does not support item assignment",
     "output_type": "error",
     "traceback": [
      "\u001b[1;31m---------------------------------------------------------------------------\u001b[0m",
      "\u001b[1;31mTypeError\u001b[0m                                 Traceback (most recent call last)",
      "Cell \u001b[1;32mIn[59], line 2\u001b[0m\n\u001b[0;32m      1\u001b[0m t \u001b[38;5;241m=\u001b[39m(\u001b[38;5;241m1\u001b[39m, (\u001b[38;5;241m1\u001b[39m,\u001b[38;5;241m2\u001b[39m,\u001b[38;5;241m3\u001b[39m), [\u001b[38;5;241m1\u001b[39m,\u001b[38;5;241m2\u001b[39m,\u001b[38;5;241m3\u001b[39m,\u001b[38;5;124m\"\u001b[39m\u001b[38;5;124mRaju\u001b[39m\u001b[38;5;124m\"\u001b[39m, \u001b[38;5;124m\"\u001b[39m\u001b[38;5;124mABc\u001b[39m\u001b[38;5;124m\"\u001b[39m,\u001b[38;5;241m2.22\u001b[39m])\n\u001b[1;32m----> 2\u001b[0m t[\u001b[38;5;241m2\u001b[39m] \u001b[38;5;241m=\u001b[39m \u001b[38;5;124m\"\u001b[39m\u001b[38;5;124mx\u001b[39m\u001b[38;5;124m\"\u001b[39m\n",
      "\u001b[1;31mTypeError\u001b[0m: 'tuple' object does not support item assignment"
     ]
    }
   ],
   "source": [
    "t =(1, (1,2,3), [1,2,3,\"Raju\", \"ABc\",2.22])\n",
    "t[2] = \"x\"\n"
   ]
  },
  {
   "cell_type": "code",
   "execution_count": 60,
   "metadata": {},
   "outputs": [
    {
     "name": "stdout",
     "output_type": "stream",
     "text": [
      "(1, (1, 2, 3), [1, 2, 'x', 'Raju', 'ABc', 2.22])\n"
     ]
    }
   ],
   "source": [
    "#List inside the tuple can be mutable\n",
    "t =(1, (1,2,3), [1,2,3,\"Raju\", \"ABc\",2.22])\n",
    "t[2][2] = \"x\"\n",
    "print(t)"
   ]
  },
  {
   "cell_type": "code",
   "execution_count": 61,
   "metadata": {},
   "outputs": [
    {
     "name": "stdout",
     "output_type": "stream",
     "text": [
      "(1, 2, 3, 4, 5, 6)\n"
     ]
    }
   ],
   "source": [
    "#concatenate Tuple\n",
    "t = (1,2,3) + (4,5,6)\n",
    "print(t)\n"
   ]
  },
  {
   "cell_type": "code",
   "execution_count": 62,
   "metadata": {},
   "outputs": [
    {
     "name": "stdout",
     "output_type": "stream",
     "text": [
      "('Satish', 'Satish', 'Satish', 'Satish')\n"
     ]
    }
   ],
   "source": [
    "#repeate the elements in a tuple for a given number of times\n",
    "t = ((\"Satish\",)*4)\n",
    "print(t)\n"
   ]
  },
  {
   "cell_type": "code",
   "execution_count": 63,
   "metadata": {},
   "outputs": [],
   "source": [
    "#Tuple Deletion\n",
    "#We cannot change the elements in a tuple.\n",
    "#That also means we cannot delete or remove items from a tuple\n",
    "\n",
    "#delete entire tuples using del keyword\n",
    "t = (1,2,3,4,5)\n",
    "del t"
   ]
  },
  {
   "cell_type": "code",
   "execution_count": 64,
   "metadata": {},
   "outputs": [
    {
     "data": {
      "text/plain": [
       "2"
      ]
     },
     "execution_count": 64,
     "metadata": {},
     "output_type": "execute_result"
    }
   ],
   "source": [
    "#Tuple Count\n",
    "t = (1,2,3,4,5,6,1,2,3,4,5)\n",
    "t.count(1)"
   ]
  },
  {
   "cell_type": "code",
   "execution_count": 65,
   "metadata": {},
   "outputs": [
    {
     "name": "stdout",
     "output_type": "stream",
     "text": [
      "2\n"
     ]
    }
   ],
   "source": [
    "#Tuple Index\n",
    "t = (1,2,3,4,5,6,1,2,3,4,5)\n",
    "print(t.index(3)) #return index of the first element is equal to 3\n",
    "\n"
   ]
  },
  {
   "cell_type": "code",
   "execution_count": 66,
   "metadata": {},
   "outputs": [
    {
     "name": "stdout",
     "output_type": "stream",
     "text": [
      "True\n",
      "False\n"
     ]
    }
   ],
   "source": [
    "\n",
    "#Tuple Membership\n",
    "t = (1,2,3,4,5,6,1,2,3,4,5)\n",
    "print(3 in t)\n",
    "print(7 in t)\n"
   ]
  },
  {
   "cell_type": "code",
   "execution_count": 67,
   "metadata": {},
   "outputs": [
    {
     "name": "stdout",
     "output_type": "stream",
     "text": [
      "6\n",
      "6\n",
      "1\n",
      "21\n"
     ]
    }
   ],
   "source": [
    "#Built in Fuctions\n",
    "#Tuple Length\n",
    "t = (1,2,3,4,5,6)\n",
    "print(len(t))\n",
    "print(max(t))\n",
    "print(min(t))\n",
    "print(sum(t))"
   ]
  },
  {
   "cell_type": "code",
   "execution_count": 68,
   "metadata": {},
   "outputs": [
    {
     "name": "stdout",
     "output_type": "stream",
     "text": [
      "[1, 2, 2, 3, 5, 7, 9]\n"
     ]
    }
   ],
   "source": [
    "\n",
    "#Tuple Sort\n",
    "t = (3,5,1,2,7,9,2)\n",
    "t1 = sorted(t)\n",
    "print(t1)"
   ]
  },
  {
   "cell_type": "markdown",
   "metadata": {},
   "source": [
    "## Python Sets\n",
    "### Sets in Python are mutable, meaning you can add or remove elements after creating them. However, sets themselves are not allowed to contain duplicate values. Each element in a set must be unique, and any duplicate elements are automatically removed.\n",
    "\n",
    "### Here's a brief summary of set characteristics:\n",
    "\n",
    "##### Mutable: Sets are mutable, so you can modify them by adding or removing elements.\n",
    "\n",
    "##### Unordered: Sets are unordered collections, and the elements do not have a specific order. Therefore, you cannot access elements by index.\n",
    "\n",
    "##### Unique Elements: Each element in a set must be unique. If you try to add a duplicate element, it will be ignored."
   ]
  },
  {
   "cell_type": "code",
   "execution_count": 75,
   "metadata": {},
   "outputs": [
    {
     "name": "stdout",
     "output_type": "stream",
     "text": [
      "{1, 2, 3}\n",
      "<class 'set'>\n"
     ]
    }
   ],
   "source": [
    "#Sets is an unordered collection of items.\n",
    "s = {1,2,3}\n",
    "print(s)\n",
    "print(type(s))"
   ]
  },
  {
   "cell_type": "code",
   "execution_count": 82,
   "metadata": {},
   "outputs": [
    {
     "name": "stdout",
     "output_type": "stream",
     "text": [
      "{'Friday', 'Wednesday', 'Thursday', 'Saturday', 'Sunday', 'Monday', 'Tuesday'}\n",
      "<class 'set'>\n",
      "looping through the set elements ... \n",
      "Friday\n",
      "Wednesday\n",
      "Thursday\n",
      "Saturday\n",
      "Sunday\n",
      "Monday\n",
      "Tuesday\n"
     ]
    }
   ],
   "source": [
    "Days = {\"Monday\", \"Tuesday\", \"Wednesday\", \"Thursday\", \"Friday\", \"Saturday\", \"Sunday\"}    \n",
    "print(Days)    \n",
    "print(type(Days))    \n",
    "print(\"looping through the set elements ... \")    \n",
    "for i in Days:    \n",
    "    print(i)    "
   ]
  },
  {
   "cell_type": "code",
   "execution_count": 83,
   "metadata": {},
   "outputs": [
    {
     "name": "stdout",
     "output_type": "stream",
     "text": [
      "{1, 2, 3, 4}\n"
     ]
    }
   ],
   "source": [
    "#set does not allow duplicate values. They store only one instance.\n",
    "s = {1,2,3,1,4}\n",
    "print(s)"
   ]
  },
  {
   "cell_type": "code",
   "execution_count": 85,
   "metadata": {},
   "outputs": [
    {
     "name": "stdout",
     "output_type": "stream",
     "text": [
      "{1, 2, 3, 4, 5}\n"
     ]
    },
    {
     "data": {
      "text/plain": [
       "set"
      ]
     },
     "execution_count": 85,
     "metadata": {},
     "output_type": "execute_result"
    }
   ],
   "source": [
    "#we can make set from a list\n",
    "s = set([1,2,3,4,5,1])\n",
    "print(s)\n",
    "type(s)"
   ]
  },
  {
   "cell_type": "code",
   "execution_count": 86,
   "metadata": {},
   "outputs": [
    {
     "name": "stdout",
     "output_type": "stream",
     "text": [
      "<class 'set'>\n"
     ]
    }
   ],
   "source": [
    "#initialize a set with set() method\n",
    "s = set()\n",
    "print(type(s))"
   ]
  },
  {
   "cell_type": "code",
   "execution_count": 87,
   "metadata": {},
   "outputs": [
    {
     "ename": "TypeError",
     "evalue": "'set' object is not subscriptable",
     "output_type": "error",
     "traceback": [
      "\u001b[1;31m---------------------------------------------------------------------------\u001b[0m",
      "\u001b[1;31mTypeError\u001b[0m                                 Traceback (most recent call last)",
      "Cell \u001b[1;32mIn[87], line 3\u001b[0m\n\u001b[0;32m      1\u001b[0m \u001b[38;5;66;03m#set is unordered, means we cannot index\u001b[39;00m\n\u001b[0;32m      2\u001b[0m s \u001b[38;5;241m=\u001b[39m {\u001b[38;5;241m1\u001b[39m,\u001b[38;5;241m3\u001b[39m}\n\u001b[1;32m----> 3\u001b[0m \u001b[38;5;28mprint\u001b[39m(\u001b[43ms\u001b[49m\u001b[43m[\u001b[49m\u001b[38;5;241;43m1\u001b[39;49m\u001b[43m]\u001b[49m)\n",
      "\u001b[1;31mTypeError\u001b[0m: 'set' object is not subscriptable"
     ]
    }
   ],
   "source": [
    "#set is unordered, means we cannot index\n",
    "s = {1,3}\n",
    "print(s[1])"
   ]
  },
  {
   "cell_type": "code",
   "execution_count": 88,
   "metadata": {},
   "outputs": [
    {
     "name": "stdout",
     "output_type": "stream",
     "text": [
      "{1, 2, 3}\n"
     ]
    }
   ],
   "source": [
    "#Sets are mutable; henace we can add elements to the sets\n",
    "\n",
    "s.add(2)\n",
    "print(s)"
   ]
  },
  {
   "cell_type": "code",
   "execution_count": 89,
   "metadata": {},
   "outputs": [
    {
     "name": "stdout",
     "output_type": "stream",
     "text": [
      "{1, 2, 3, 5, 6, 7}\n"
     ]
    }
   ],
   "source": [
    "#we can add multiple elements to the set\n",
    "s.update([5,6,7])\n",
    "print(s)"
   ]
  },
  {
   "cell_type": "code",
   "execution_count": 90,
   "metadata": {},
   "outputs": [
    {
     "name": "stdout",
     "output_type": "stream",
     "text": [
      "{1, 2, 3, 5, 6, 7, 8, 9, 10, 11}\n"
     ]
    }
   ],
   "source": [
    "#add list and set\n",
    "s.update([8,9],{10,1,2,11})\n",
    "print(s)"
   ]
  },
  {
   "cell_type": "code",
   "execution_count": 91,
   "metadata": {},
   "outputs": [
    {
     "name": "stdout",
     "output_type": "stream",
     "text": [
      "{1, 2, 3, 5, 6, 7, 8, 9, 10, 11}\n",
      "{1, 3, 5, 6, 7, 8, 9, 10, 11}\n"
     ]
    }
   ],
   "source": [
    "#delete an item from the set, if an item does not exists in a set discard() does not raie an error\n",
    "print(s)\n",
    "s.discard(2)\n",
    "print(s)\n"
   ]
  },
  {
   "cell_type": "code",
   "execution_count": null,
   "metadata": {},
   "outputs": [],
   "source": [
    "#remove an item from the set, if item does not exists in a set then remove will raise an error.\n",
    "s.remove(3)\n",
    "print(s)\n",
    "s.remove(12)\n",
    "print(s)"
   ]
  },
  {
   "cell_type": "code",
   "execution_count": 92,
   "metadata": {},
   "outputs": [
    {
     "name": "stdout",
     "output_type": "stream",
     "text": [
      "{2, 3, 4, 5}\n"
     ]
    }
   ],
   "source": [
    "#we can remove item using pop() method\n",
    "s = {1,2,3,4,5}\n",
    "s.pop() #remove random element\n",
    "print(s)"
   ]
  },
  {
   "cell_type": "code",
   "execution_count": null,
   "metadata": {},
   "outputs": [],
   "source": [
    "s = {1,2,3,4,5}\n",
    "s.clear() # remove all the itmes in set using clear() method\n",
    "print(s)"
   ]
  },
  {
   "cell_type": "code",
   "execution_count": 93,
   "metadata": {},
   "outputs": [
    {
     "name": "stdout",
     "output_type": "stream",
     "text": [
      "{1, 2, 3, 4, 5, 6, 7}\n"
     ]
    }
   ],
   "source": [
    "#Python Set Operations\n",
    "set1 = {1,2,3,4,5}\n",
    "set2 = {3,4,5,6,7}\n",
    "print(set1 | set2)"
   ]
  },
  {
   "cell_type": "code",
   "execution_count": 94,
   "metadata": {},
   "outputs": [
    {
     "name": "stdout",
     "output_type": "stream",
     "text": [
      "{1, 2, 3, 4, 5, 6, 7}\n"
     ]
    }
   ],
   "source": [
    "#another way of getting union of 2 sets\n",
    "print(set1.union(set2))"
   ]
  },
  {
   "cell_type": "code",
   "execution_count": 95,
   "metadata": {},
   "outputs": [
    {
     "name": "stdout",
     "output_type": "stream",
     "text": [
      "{3, 4, 5}\n"
     ]
    }
   ],
   "source": [
    "#intersection\n",
    "print(set1 & set2)"
   ]
  },
  {
   "cell_type": "code",
   "execution_count": 96,
   "metadata": {},
   "outputs": [
    {
     "name": "stdout",
     "output_type": "stream",
     "text": [
      "{3, 4, 5}\n"
     ]
    }
   ],
   "source": [
    "#use intersection function\n",
    "print(set1.intersection(set2))"
   ]
  },
  {
   "cell_type": "code",
   "execution_count": 97,
   "metadata": {},
   "outputs": [
    {
     "name": "stdout",
     "output_type": "stream",
     "text": [
      "{1, 2}\n"
     ]
    }
   ],
   "source": [
    "#set difference: set of elements that are only in set1 but not in set2\n",
    "print(set1 - set2)"
   ]
  },
  {
   "cell_type": "code",
   "execution_count": 98,
   "metadata": {},
   "outputs": [
    {
     "name": "stdout",
     "output_type": "stream",
     "text": [
      "{6, 7}\n"
     ]
    }
   ],
   "source": [
    "print(set2 - set1)"
   ]
  },
  {
   "cell_type": "code",
   "execution_count": 99,
   "metadata": {},
   "outputs": [
    {
     "name": "stdout",
     "output_type": "stream",
     "text": [
      "{1, 2, 6, 7}\n"
     ]
    }
   ],
   "source": [
    "#Symetric difference: set of elements in both set1 and set2\n",
    "# excepts those that are common in both sets\n",
    "#use ^ operator\n",
    "print(set1 ^ set2)"
   ]
  },
  {
   "cell_type": "code",
   "execution_count": 100,
   "metadata": {},
   "outputs": [
    {
     "name": "stdout",
     "output_type": "stream",
     "text": [
      "{1, 2, 6, 7}\n"
     ]
    }
   ],
   "source": [
    "print(set1.symmetric_difference(set2))"
   ]
  },
  {
   "cell_type": "code",
   "execution_count": 101,
   "metadata": {},
   "outputs": [
    {
     "name": "stdout",
     "output_type": "stream",
     "text": [
      "set 'x' is a subset of 'y' ? False\n",
      "set 'y' is a subset of 'x' ? True\n"
     ]
    }
   ],
   "source": [
    "# find issubset\n",
    "x = {\"a\", \"b\", \"c\", \"d\",\"e\"}\n",
    "y = {\"c\", \"d\"}\n",
    "print(\"set 'x' is a subset of 'y' ?\", x.issubset(y))\n",
    "print(\"set 'y' is a subset of 'x' ?\", y.issubset(x))"
   ]
  },
  {
   "cell_type": "code",
   "execution_count": 102,
   "metadata": {},
   "outputs": [
    {
     "ename": "AttributeError",
     "evalue": "'frozenset' object has no attribute 'add'",
     "output_type": "error",
     "traceback": [
      "\u001b[1;31m---------------------------------------------------------------------------\u001b[0m",
      "\u001b[1;31mAttributeError\u001b[0m                            Traceback (most recent call last)",
      "Cell \u001b[1;32mIn[102], line 6\u001b[0m\n\u001b[0;32m      4\u001b[0m set1 \u001b[38;5;241m=\u001b[39m \u001b[38;5;28mfrozenset\u001b[39m([\u001b[38;5;241m1\u001b[39m,\u001b[38;5;241m2\u001b[39m,\u001b[38;5;241m3\u001b[39m,\u001b[38;5;241m4\u001b[39m])\n\u001b[0;32m      5\u001b[0m set2 \u001b[38;5;241m=\u001b[39m \u001b[38;5;28mfrozenset\u001b[39m([\u001b[38;5;241m3\u001b[39m,\u001b[38;5;241m4\u001b[39m,\u001b[38;5;241m5\u001b[39m,\u001b[38;5;241m6\u001b[39m])\n\u001b[1;32m----> 6\u001b[0m \u001b[43mset1\u001b[49m\u001b[38;5;241;43m.\u001b[39;49m\u001b[43madd\u001b[49m(\u001b[38;5;241m5\u001b[39m)\n\u001b[0;32m      7\u001b[0m \u001b[38;5;28mprint\u001b[39m(set1[\u001b[38;5;241m1\u001b[39m])\n",
      "\u001b[1;31mAttributeError\u001b[0m: 'frozenset' object has no attribute 'add'"
     ]
    }
   ],
   "source": [
    "#Frozen Sets has the characteristics of sets, but we cant changed it once it has been assigned\n",
    "# While tuples are immputable lists, frozen sets are immutable sets\n",
    "# Frozensets can be created using fucntion frozenset()\n",
    "set1 = frozenset([1,2,3,4])\n",
    "set2 = frozenset([3,4,5,6])\n",
    "set1.add(5)\n",
    "print(set1[1]) #frozenset also does not support indexing"
   ]
  },
  {
   "cell_type": "code",
   "execution_count": null,
   "metadata": {},
   "outputs": [],
   "source": [
    "#forzenset supports all others operations like union, intersection etc."
   ]
  },
  {
   "cell_type": "markdown",
   "metadata": {},
   "source": [
    "#### Mutable and ordered data structures: Lists\n",
    "#### Mutable and unordered data structures: Sets, Dictionaries\n",
    "#### Immutable and ordered data structures: Tuples"
   ]
  },
  {
   "cell_type": "markdown",
   "metadata": {},
   "source": [
    "#### 1. Dictionary data structure is mutable\n",
    "#### 2. The components of dictionary were made using keys and values.\n",
    "#### 3. Keys must only have one component.\n",
    "#### 4. Values can be of any type, including integer, list, and tuple."
   ]
  },
  {
   "cell_type": "code",
   "execution_count": 103,
   "metadata": {},
   "outputs": [
    {
     "name": "stdout",
     "output_type": "stream",
     "text": [
      "satish\n",
      "guntur\n",
      "None\n"
     ]
    }
   ],
   "source": [
    "# Access Dictionary\n",
    "\n",
    "my_dict = {'name': 'satish', 'age': 27, 'address': 'guntur'}\n",
    "print(my_dict['name'])\n",
    "\n",
    "#another way to accessing key\n",
    "print(my_dict.get('address'))\n",
    "print(my_dict.get('degree'))\n"
   ]
  },
  {
   "cell_type": "code",
   "execution_count": 104,
   "metadata": {},
   "outputs": [
    {
     "name": "stdout",
     "output_type": "stream",
     "text": [
      "raju\n",
      "{'name': 'raju', 'age': 27, 'address': 'guntur'}\n",
      "{'name': 'raju', 'age': 27, 'address': 'guntur', 'degree': 'M.Tech.'}\n"
     ]
    }
   ],
   "source": [
    "#dict ADD or Modify Elements\n",
    "my_dict = {'name': 'satish', 'age': 27, 'address': 'guntur'}\n",
    "#update name\n",
    "my_dict['name'] = 'raju'\n",
    "print(my_dict['name'])\n",
    "print(my_dict)\n",
    "\n",
    "# add a value\n",
    "my_dict['degree'] = 'M.Tech.'\n",
    "print(my_dict)"
   ]
  },
  {
   "cell_type": "code",
   "execution_count": 105,
   "metadata": {},
   "outputs": [
    {
     "name": "stdout",
     "output_type": "stream",
     "text": [
      "27\n",
      "{'name': 'satish', 'address': 'guntur'}\n"
     ]
    }
   ],
   "source": [
    "#Dictionary Delete or Remove Element\n",
    "my_dict = {'name': 'satish', 'age': 27, 'address': 'guntur'}\n",
    "print(my_dict.pop('age'))\n",
    "print(my_dict)"
   ]
  },
  {
   "cell_type": "code",
   "execution_count": 106,
   "metadata": {},
   "outputs": [
    {
     "data": {
      "text/plain": [
       "('address', 'guntur')"
      ]
     },
     "execution_count": 106,
     "metadata": {},
     "output_type": "execute_result"
    }
   ],
   "source": [
    "my_dict = {'name': 'satish', 'age': 27, 'address': 'guntur'}\n",
    "#remove an arbitrary key\n",
    "my_dict.popitem()"
   ]
  },
  {
   "cell_type": "code",
   "execution_count": 107,
   "metadata": {},
   "outputs": [
    {
     "name": "stdout",
     "output_type": "stream",
     "text": [
      "{3: 9, 4: 16, 5: 25, 6: 36}\n"
     ]
    }
   ],
   "source": [
    "#delete items\n",
    "squares = {2:4, 3:9, 4:16, 5:25, 6:36}\n",
    "del squares[2]\n",
    "print(squares)"
   ]
  },
  {
   "cell_type": "code",
   "execution_count": 108,
   "metadata": {},
   "outputs": [
    {
     "name": "stdout",
     "output_type": "stream",
     "text": [
      "{}\n"
     ]
    }
   ],
   "source": [
    "#removers all items\n",
    "squares.clear()\n",
    "print(squares)"
   ]
  },
  {
   "cell_type": "code",
   "execution_count": 109,
   "metadata": {
    "scrolled": true
   },
   "outputs": [
    {
     "ename": "NameError",
     "evalue": "name 'squares' is not defined",
     "output_type": "error",
     "traceback": [
      "\u001b[1;31m---------------------------------------------------------------------------\u001b[0m",
      "\u001b[1;31mNameError\u001b[0m                                 Traceback (most recent call last)",
      "Cell \u001b[1;32mIn[109], line 3\u001b[0m\n\u001b[0;32m      1\u001b[0m squares \u001b[38;5;241m=\u001b[39m {\u001b[38;5;241m2\u001b[39m:\u001b[38;5;241m4\u001b[39m, \u001b[38;5;241m3\u001b[39m:\u001b[38;5;241m9\u001b[39m, \u001b[38;5;241m4\u001b[39m:\u001b[38;5;241m16\u001b[39m, \u001b[38;5;241m5\u001b[39m:\u001b[38;5;241m25\u001b[39m, \u001b[38;5;241m6\u001b[39m:\u001b[38;5;241m36\u001b[39m}\n\u001b[0;32m      2\u001b[0m \u001b[38;5;28;01mdel\u001b[39;00m squares\n\u001b[1;32m----> 3\u001b[0m \u001b[38;5;28mprint\u001b[39m(\u001b[43msquares\u001b[49m)\n",
      "\u001b[1;31mNameError\u001b[0m: name 'squares' is not defined"
     ]
    }
   ],
   "source": [
    "squares = {2:4, 3:9, 4:16, 5:25, 6:36}\n",
    "del squares\n",
    "print(squares)\n",
    "#as while dictionary is removed from the memory that is why \n",
    "#it is showing name error"
   ]
  },
  {
   "cell_type": "code",
   "execution_count": 110,
   "metadata": {},
   "outputs": [
    {
     "name": "stdout",
     "output_type": "stream",
     "text": [
      "{2: 4, 3: 9, 4: 16, 5: 25, 6: 36}\n"
     ]
    }
   ],
   "source": [
    "squares = {2:4, 3:9, 4:16, 5:25, 6:36}\n",
    "my_dict1 = squares.copy()\n",
    "print(my_dict1)"
   ]
  },
  {
   "cell_type": "code",
   "execution_count": 112,
   "metadata": {},
   "outputs": [
    {
     "name": "stdout",
     "output_type": "stream",
     "text": [
      "{'Maths': 0, 'Physics': 0, 'Hindi': 0}\n"
     ]
    }
   ],
   "source": [
    "#fromkeys[seq[,v]] -> Return a new dictionary with keys from seq and values\n",
    "subjects = {}.fromkeys(['Maths','Physics','Hindi'],0)\n",
    "print(subjects)"
   ]
  },
  {
   "cell_type": "code",
   "execution_count": 113,
   "metadata": {},
   "outputs": [
    {
     "name": "stdout",
     "output_type": "stream",
     "text": [
      "dict_items([(2, 4), (3, 9), (4, 16), (5, 25), (6, 36)])\n"
     ]
    }
   ],
   "source": [
    "squares = {2:4, 3:9, 4:16, 5:25, 6:36}\n",
    "print(squares.items())\n",
    "#returns a new view of the dictionary items (key, values)\\"
   ]
  },
  {
   "cell_type": "code",
   "execution_count": 114,
   "metadata": {},
   "outputs": [
    {
     "name": "stdout",
     "output_type": "stream",
     "text": [
      "dict_keys([2, 3, 4, 5, 6])\n"
     ]
    }
   ],
   "source": [
    "squares = {2:4, 3:9, 4:16, 5:25, 6:36}\n",
    "print(squares.keys())"
   ]
  },
  {
   "cell_type": "code",
   "execution_count": 115,
   "metadata": {},
   "outputs": [
    {
     "name": "stdout",
     "output_type": "stream",
     "text": [
      "dict_values([4, 9, 16, 25, 36])\n"
     ]
    }
   ],
   "source": [
    "squares = {2:4, 3:9, 4:16, 5:25, 6:36}\n",
    "print(squares.values())"
   ]
  },
  {
   "cell_type": "code",
   "execution_count": 116,
   "metadata": {},
   "outputs": [
    {
     "name": "stdout",
     "output_type": "stream",
     "text": [
      "['__class__', '__class_getitem__', '__contains__', '__delattr__', '__delitem__', '__dir__', '__doc__', '__eq__', '__format__', '__ge__', '__getattribute__', '__getitem__', '__gt__', '__hash__', '__init__', '__init_subclass__', '__ior__', '__iter__', '__le__', '__len__', '__lt__', '__ne__', '__new__', '__or__', '__reduce__', '__reduce_ex__', '__repr__', '__reversed__', '__ror__', '__setattr__', '__setitem__', '__sizeof__', '__str__', '__subclasshook__', 'clear', 'copy', 'fromkeys', 'get', 'items', 'keys', 'pop', 'popitem', 'setdefault', 'update', 'values']\n"
     ]
    }
   ],
   "source": [
    "#get list of all available methods and attributes of dictionary\n",
    "d ={}\n",
    "print(dir(d))"
   ]
  },
  {
   "cell_type": "code",
   "execution_count": 117,
   "metadata": {},
   "outputs": [
    {
     "name": "stdout",
     "output_type": "stream",
     "text": [
      "('a', 1)\n",
      "('b', 2)\n",
      "('c', 3)\n"
     ]
    }
   ],
   "source": [
    "#Dict Comprehension\n",
    "#Dict comprehension are just like list comprehensions but for dictionaries\n",
    "d = {'a': 1, 'b': 2, 'c':3}\n",
    "for pairs in d.items():\n",
    "    print(pairs)"
   ]
  },
  {
   "cell_type": "code",
   "execution_count": 118,
   "metadata": {},
   "outputs": [
    {
     "name": "stdout",
     "output_type": "stream",
     "text": [
      "c 3\n",
      "d 4\n"
     ]
    }
   ],
   "source": [
    "#creating a new dictionary with only paires where the values is largers that 2\n",
    "\n",
    "d = {'a': 1, 'b': 2, 'c':3, 'd':4}\n",
    "for k,v in d.items():\n",
    "    if v>2:\n",
    "        print(k,v)"
   ]
  },
  {
   "cell_type": "code",
   "execution_count": 119,
   "metadata": {},
   "outputs": [
    {
     "name": "stdout",
     "output_type": "stream",
     "text": [
      "{'c': 3, 'd': 4}\n"
     ]
    }
   ],
   "source": [
    "d = {'a': 1, 'b': 2, 'c': 3, 'd': 4}\n",
    "new_dict = {k:v for k, v in d.items() if v>2}\n",
    "print(new_dict)"
   ]
  },
  {
   "cell_type": "code",
   "execution_count": 121,
   "metadata": {},
   "outputs": [
    {
     "name": "stdout",
     "output_type": "stream",
     "text": [
      "{'a': 1, 'b': 2, 'c': 3, 'd': 4, 'e': 5}\n",
      "{'ac': 2, 'bc': 4, 'cc': 6, 'dc': 8, 'ec': 10}\n"
     ]
    }
   ],
   "source": [
    "#we can also perform operations on the key value pairs\n",
    "d = {'a': 1, 'b': 2, 'c': 3, 'd': 4, 'e':5}\n",
    "dd = {k + 'c': v *2 for k,v in d.items() if v>2}\n",
    "print(d)\n",
    "print(dd)"
   ]
  },
  {
   "cell_type": "code",
   "execution_count": 122,
   "metadata": {},
   "outputs": [
    {
     "name": "stdout",
     "output_type": "stream",
     "text": [
      "Hello\n",
      "Hello\n",
      "Hello\n"
     ]
    }
   ],
   "source": [
    "#Strings\n",
    "#In python, strings is a sequence of Unicode character \n",
    "mystring = \"Hello\"\n",
    "print(mystring)\n",
    "mystring = 'Hello'\n",
    "print(mystring)\n",
    "mystring='''Hello''' #for multi line comments  \n",
    "print(mystring)\n"
   ]
  },
  {
   "cell_type": "code",
   "execution_count": 123,
   "metadata": {},
   "outputs": [
    {
     "name": "stdout",
     "output_type": "stream",
     "text": [
      "H\n",
      "o\n",
      "llo\n"
     ]
    },
    {
     "ename": "IndexError",
     "evalue": "string index out of range",
     "output_type": "error",
     "traceback": [
      "\u001b[1;31m---------------------------------------------------------------------------\u001b[0m",
      "\u001b[1;31mIndexError\u001b[0m                                Traceback (most recent call last)",
      "Cell \u001b[1;32mIn[123], line 7\u001b[0m\n\u001b[0;32m      4\u001b[0m \u001b[38;5;28mprint\u001b[39m(mystring[\u001b[38;5;241m-\u001b[39m\u001b[38;5;241m1\u001b[39m])\n\u001b[0;32m      5\u001b[0m \u001b[38;5;28mprint\u001b[39m(mystring[\u001b[38;5;241m2\u001b[39m:\u001b[38;5;241m5\u001b[39m])\n\u001b[1;32m----> 7\u001b[0m \u001b[38;5;28mprint\u001b[39m(\u001b[43mmystring\u001b[49m\u001b[43m[\u001b[49m\u001b[38;5;241;43m15\u001b[39;49m\u001b[43m]\u001b[49m) \u001b[38;5;66;03m#String index out of range\u001b[39;00m\n\u001b[0;32m      8\u001b[0m \u001b[38;5;28mprint\u001b[39m(mystring[\u001b[38;5;241m1.5\u001b[39m])\n",
      "\u001b[1;31mIndexError\u001b[0m: string index out of range"
     ]
    }
   ],
   "source": [
    "#How to access characters in a string\n",
    "mystring = \"Hello\"\n",
    "print(mystring[0])\n",
    "print(mystring[-1])\n",
    "print(mystring[2:5])\n",
    "\n",
    "print(mystring[15]) #String index out of range\n",
    "print(mystring[1.5]) #string index must be an integer"
   ]
  },
  {
   "cell_type": "code",
   "execution_count": 124,
   "metadata": {
    "scrolled": true
   },
   "outputs": [
    {
     "ename": "TypeError",
     "evalue": "'str' object does not support item assignment",
     "output_type": "error",
     "traceback": [
      "\u001b[1;31m---------------------------------------------------------------------------\u001b[0m",
      "\u001b[1;31mTypeError\u001b[0m                                 Traceback (most recent call last)",
      "Cell \u001b[1;32mIn[124], line 7\u001b[0m\n\u001b[0;32m      1\u001b[0m \u001b[38;5;66;03m#HOW TO CHANGE OR DELETE a STRING\u001b[39;00m\n\u001b[0;32m      2\u001b[0m \u001b[38;5;66;03m# Strings are immutable just like tuple. This means that elemnets of string cannot be changed once it is assigned.\u001b[39;00m\n\u001b[0;32m      3\u001b[0m \u001b[38;5;66;03m# We can simply reassign different strings to the same name.\u001b[39;00m\n\u001b[0;32m      4\u001b[0m \u001b[38;5;66;03m#However lists are mutable.\u001b[39;00m\n\u001b[0;32m      6\u001b[0m mystring \u001b[38;5;241m=\u001b[39m \u001b[38;5;124m\"\u001b[39m\u001b[38;5;124mHello\u001b[39m\u001b[38;5;124m\"\u001b[39m\n\u001b[1;32m----> 7\u001b[0m mystring[\u001b[38;5;241m4\u001b[39m] \u001b[38;5;241m=\u001b[39m \u001b[38;5;124m'\u001b[39m\u001b[38;5;124ms\u001b[39m\u001b[38;5;124m'\u001b[39m\n",
      "\u001b[1;31mTypeError\u001b[0m: 'str' object does not support item assignment"
     ]
    }
   ],
   "source": [
    "#HOW TO CHANGE OR DELETE a STRING\n",
    "# Strings are immutable just like tuple. This means that elemnets of string cannot be changed once it is assigned.\n",
    "# We can simply reassign different strings to the same name.\n",
    "#However lists are mutable.\n",
    "\n",
    "mystring = \"Hello\"\n",
    "mystring[4] = 's' #strings are immutable\n"
   ]
  },
  {
   "cell_type": "code",
   "execution_count": 125,
   "metadata": {},
   "outputs": [],
   "source": [
    "#WE cannot delete or remove characters from a string. But deleting the string\n",
    "#entirely is possible using the keyword del.\n",
    "del mystring #delete complete string\n"
   ]
  },
  {
   "cell_type": "code",
   "execution_count": 126,
   "metadata": {},
   "outputs": [
    {
     "ename": "NameError",
     "evalue": "name 'mystring' is not defined",
     "output_type": "error",
     "traceback": [
      "\u001b[1;31m---------------------------------------------------------------------------\u001b[0m",
      "\u001b[1;31mNameError\u001b[0m                                 Traceback (most recent call last)",
      "Cell \u001b[1;32mIn[126], line 1\u001b[0m\n\u001b[1;32m----> 1\u001b[0m \u001b[38;5;28mprint\u001b[39m(\u001b[43mmystring\u001b[49m)\n",
      "\u001b[1;31mNameError\u001b[0m: name 'mystring' is not defined"
     ]
    }
   ],
   "source": [
    "print(mystring)"
   ]
  },
  {
   "cell_type": "code",
   "execution_count": 127,
   "metadata": {},
   "outputs": [
    {
     "name": "stdout",
     "output_type": "stream",
     "text": [
      "Hello Satish\n",
      "HelloSatish\n",
      "HelloHelloHello\n",
      "New string variable: HelloHelloHello\n"
     ]
    }
   ],
   "source": [
    "#String Operations\n",
    "s1 = \"Hello\"\n",
    "s2 = \"Satish\"\n",
    "\n",
    "print(s1+\" \"+s2)\n",
    "print(s1 + s2)\n",
    "print(s1 * 3) #repeat string three times\n",
    "print('New string variable:',3* s1)\n"
   ]
  },
  {
   "cell_type": "code",
   "execution_count": 128,
   "metadata": {},
   "outputs": [
    {
     "name": "stdout",
     "output_type": "stream",
     "text": [
      "prprpr\n"
     ]
    }
   ],
   "source": [
    "str = 'Python program'\n",
    "print(str[7:9]*3) #Repeats the seventh and eighth character three times"
   ]
  },
  {
   "cell_type": "code",
   "execution_count": 131,
   "metadata": {},
   "outputs": [
    {
     "name": "stdout",
     "output_type": "stream",
     "text": [
      "l\n",
      "3 letter found\n"
     ]
    }
   ],
   "source": [
    "#Iteration through the string\n",
    "count = 0\n",
    "a = input()\n",
    "for l in \"hello world\":\n",
    "    if l == a:\n",
    "        count += 1\n",
    "print(count, 'letter found')"
   ]
  },
  {
   "cell_type": "code",
   "execution_count": 132,
   "metadata": {},
   "outputs": [
    {
     "name": "stdout",
     "output_type": "stream",
     "text": [
      "True\n"
     ]
    }
   ],
   "source": [
    "#String Membership Test\n",
    "print('l' in 'Hello World') #in operator to test membership"
   ]
  },
  {
   "cell_type": "markdown",
   "metadata": {},
   "source": []
  },
  {
   "cell_type": "code",
   "execution_count": 133,
   "metadata": {},
   "outputs": [
    {
     "name": "stdout",
     "output_type": "stream",
     "text": [
      "True\n"
     ]
    }
   ],
   "source": [
    "print('or' in 'Hello World')"
   ]
  },
  {
   "cell_type": "code",
   "execution_count": 134,
   "metadata": {},
   "outputs": [
    {
     "data": {
      "text/plain": [
       "'hello'"
      ]
     },
     "execution_count": 134,
     "metadata": {},
     "output_type": "execute_result"
    }
   ],
   "source": [
    "#String methods: some of the commonly used methods are \n",
    "#lower(), upper(), join(), split(), find(), replace()\n",
    "\"Hello\".lower()\n",
    "\n",
    "\n"
   ]
  },
  {
   "cell_type": "code",
   "execution_count": 135,
   "metadata": {},
   "outputs": [
    {
     "data": {
      "text/plain": [
       "'HELLO'"
      ]
     },
     "execution_count": 135,
     "metadata": {},
     "output_type": "execute_result"
    }
   ],
   "source": [
    "\"Hello\".upper()"
   ]
  },
  {
   "cell_type": "code",
   "execution_count": 136,
   "metadata": {},
   "outputs": [
    {
     "data": {
      "text/plain": [
       "['This', 'will', 'split', 'all', 'words', 'in', 'a', 'list']"
      ]
     },
     "execution_count": 136,
     "metadata": {},
     "output_type": "execute_result"
    }
   ],
   "source": [
    "\"This will split all words in a list\".split()"
   ]
  },
  {
   "cell_type": "code",
   "execution_count": 139,
   "metadata": {},
   "outputs": [
    {
     "data": {
      "text/plain": [
       "'This will split all words in a list'"
      ]
     },
     "execution_count": 139,
     "metadata": {},
     "output_type": "execute_result"
    }
   ],
   "source": [
    "' '.join(['This', 'will', 'split', 'all', 'words', 'in', 'a', 'list'])"
   ]
  },
  {
   "cell_type": "code",
   "execution_count": 140,
   "metadata": {},
   "outputs": [
    {
     "data": {
      "text/plain": [
       "5"
      ]
     },
     "execution_count": 140,
     "metadata": {},
     "output_type": "execute_result"
    }
   ],
   "source": [
    "\"Good Morning\".find(\"Mo\")"
   ]
  },
  {
   "cell_type": "code",
   "execution_count": 141,
   "metadata": {},
   "outputs": [
    {
     "data": {
      "text/plain": [
       "'This-will-split-all-words-in-a-list'"
      ]
     },
     "execution_count": 141,
     "metadata": {},
     "output_type": "execute_result"
    }
   ],
   "source": [
    "'-'.join(['This', 'will', 'split', 'all', 'words', 'in', 'a', 'list'])"
   ]
  },
  {
   "cell_type": "code",
   "execution_count": 142,
   "metadata": {},
   "outputs": [
    {
     "data": {
      "text/plain": [
       "'Good Morning'"
      ]
     },
     "execution_count": 142,
     "metadata": {},
     "output_type": "execute_result"
    }
   ],
   "source": [
    "\"Bad Morning\".replace(\"Bad\",\"Good\")"
   ]
  },
  {
   "cell_type": "code",
   "execution_count": 1,
   "metadata": {},
   "outputs": [
    {
     "name": "stdout",
     "output_type": "stream",
     "text": [
      "given String is Palindrome\n"
     ]
    }
   ],
   "source": [
    "#Python Program to check where a String is Palindrome or not?\n",
    "myStr = \"MadaM\"\n",
    "myStr = myStr.lower()\n",
    "revStr = reversed(myStr)\n",
    "\n",
    "#if myStr == revStr: (this will not work as both myStr and revStr is pointed to some other location in memory)\n",
    "if list(myStr)== list(revStr):\n",
    "    print(\"given String is Palindrome\")\n",
    "else:\n",
    "    print(\"given String is not a Palindrome\")"
   ]
  },
  {
   "cell_type": "code",
   "execution_count": 2,
   "metadata": {},
   "outputs": [
    {
     "name": "stdout",
     "output_type": "stream",
     "text": [
      "Alphabetic\n",
      "Order\n",
      "Program\n",
      "Python\n",
      "Sort\n",
      "Words\n",
      "in\n",
      "to\n"
     ]
    }
   ],
   "source": [
    "#Python Program to Sort Words in Alphbetic Order\n",
    "myStr = \"Python Program to Sort Words in Alphabetic Order\"\n",
    "words = myStr.split()\n",
    "words.sort()\n",
    "for word in words:\n",
    "    print(word)"
   ]
  },
  {
   "cell_type": "code",
   "execution_count": 3,
   "metadata": {},
   "outputs": [
    {
     "name": "stdout",
     "output_type": "stream",
     "text": [
      "3 number 3\n",
      "5 number 5\n",
      "10 number 5\n",
      "15 number 5\n",
      "20 number 5\n"
     ]
    }
   ],
   "source": [
    "numbers = [1, 3, 5, 7, 10, 15, 20]\n",
    "\n",
    "# Loop through the numbers and perform conditional checks\n",
    "for num in numbers:\n",
    "    if num % 5 == 0:\n",
    "        # Placeholder: Perform some action for numbers divisible by 5 later\n",
    "        pass\n",
    "        print(num, \"number 5\")\n",
    "    elif num % 3 == 0:\n",
    "        # Placeholder: Perform some action for numbers divisible by 3 later\n",
    "        pass\n",
    "        print(num, \"number 3\")\n",
    "    else:\n",
    "        # Placeholder: Perform some other action for other numbers later\n",
    "        pass\n",
    "    "
   ]
  },
  {
   "cell_type": "code",
   "execution_count": null,
   "metadata": {},
   "outputs": [],
   "source": []
  }
 ],
 "metadata": {
  "kernelspec": {
   "display_name": "Python 3 (ipykernel)",
   "language": "python",
   "name": "python3"
  },
  "language_info": {
   "codemirror_mode": {
    "name": "ipython",
    "version": 3
   },
   "file_extension": ".py",
   "mimetype": "text/x-python",
   "name": "python",
   "nbconvert_exporter": "python",
   "pygments_lexer": "ipython3",
   "version": "3.10.9"
  }
 },
 "nbformat": 4,
 "nbformat_minor": 4
}
