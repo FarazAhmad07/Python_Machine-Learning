{
 "cells": [
  {
   "cell_type": "code",
   "execution_count": 1,
   "metadata": {},
   "outputs": [
    {
     "name": "stdout",
     "output_type": "stream",
     "text": [
      "hello\n"
     ]
    }
   ],
   "source": [
    "print (\"hello\")"
   ]
  },
  {
   "cell_type": "code",
   "execution_count": 2,
   "metadata": {},
   "outputs": [
    {
     "name": "stdout",
     "output_type": "stream",
     "text": [
      "['False', 'None', 'True', 'and', 'as', 'assert', 'async', 'await', 'break', 'class', 'continue', 'def', 'del', 'elif', 'else', 'except', 'finally', 'for', 'from', 'global', 'if', 'import', 'in', 'is', 'lambda', 'nonlocal', 'not', 'or', 'pass', 'raise', 'return', 'try', 'while', 'with', 'yield']\n",
      "\n",
      "Total number of keywords: 35\n"
     ]
    }
   ],
   "source": [
    "import keyword\n",
    "print(keyword.kwlist)\n",
    "print(\"\\nTotal number of keywords:\", len(keyword.kwlist))"
   ]
  },
  {
   "cell_type": "code",
   "execution_count": 4,
   "metadata": {},
   "outputs": [
    {
     "name": "stdout",
     "output_type": "stream",
     "text": [
      "0\n",
      "2\n",
      "4\n",
      "6\n",
      "8\n",
      "10\n",
      "12\n",
      "14\n",
      "16\n",
      "18\n"
     ]
    }
   ],
   "source": [
    "for i in range(10):\n",
    "   # print(i)\n",
    "    print(i*2)\n",
    "#print(100) #// not a part of for loop"
   ]
  },
  {
   "cell_type": "code",
   "execution_count": 4,
   "metadata": {},
   "outputs": [
    {
     "name": "stdout",
     "output_type": "stream",
     "text": [
      "Hello\n",
      "red\n"
     ]
    }
   ],
   "source": [
    "if True:\n",
    "    print(\"Hello\")\n",
    "    apple = \"red\"\n",
    "    print(apple)\n",
    "    "
   ]
  },
  {
   "cell_type": "code",
   "execution_count": 5,
   "metadata": {},
   "outputs": [
    {
     "name": "stdout",
     "output_type": "stream",
     "text": [
      "21\n"
     ]
    }
   ],
   "source": [
    "a = 1 + 2 + 3 + 4 + 5 + 6\n",
    "print(a)\n"
   ]
  },
  {
   "cell_type": "code",
   "execution_count": 6,
   "metadata": {},
   "outputs": [
    {
     "name": "stdout",
     "output_type": "stream",
     "text": [
      "15\n"
     ]
    }
   ],
   "source": [
    "a = (1 + 2 + 3 +\n",
    "    4 + 5)\n",
    "print  (a)\n"
   ]
  },
  {
   "cell_type": "code",
   "execution_count": 7,
   "metadata": {},
   "outputs": [
    {
     "name": "stdout",
     "output_type": "stream",
     "text": [
      "7\n"
     ]
    }
   ],
   "source": [
    "#for putting multiple statements in a line we need to put a ; in between the statements\n",
    "a = 2 ; b = 5; print(a+b)"
   ]
  },
  {
   "cell_type": "code",
   "execution_count": 8,
   "metadata": {},
   "outputs": [
    {
     "name": "stdout",
     "output_type": "stream",
     "text": [
      "84.5\n",
      "Faraz Ahmad 79 5.5\n"
     ]
    }
   ],
   "source": [
    "# VARIABLE ASSIGNMENT\n",
    "a = 79; b = 5.5; print(a+b); C =\"Faraz\"; D =\"Ahmad\"; print(C,D, a, b)"
   ]
  },
  {
   "cell_type": "code",
   "execution_count": 9,
   "metadata": {},
   "outputs": [
    {
     "name": "stdout",
     "output_type": "stream",
     "text": [
      "15.5\n"
     ]
    }
   ],
   "source": [
    "a, b, c = 10, 5.5, \"ML\"\n",
    "print(a+b)\n"
   ]
  },
  {
   "cell_type": "code",
   "execution_count": 10,
   "metadata": {},
   "outputs": [
    {
     "name": "stdout",
     "output_type": "stream",
     "text": [
      "4.8\n"
     ]
    }
   ],
   "source": [
    "#Multiple Assignments\n",
    "a = b = c = 1.2\n",
    "print(a+b+b+c)\n"
   ]
  },
  {
   "cell_type": "code",
   "execution_count": 11,
   "metadata": {},
   "outputs": [
    {
     "name": "stdout",
     "output_type": "stream",
     "text": [
      "140728978022864\n",
      "140728978022864\n"
     ]
    }
   ],
   "source": [
    "#Storage location of x using id(), both the variable are pointing at the same memory location, \n",
    "#as both of the variables are stroring the same value. (python safe memory like this)\n",
    "x = 3\n",
    "print(id(x))\n",
    "y = 3\n",
    "print(id(y))"
   ]
  },
  {
   "cell_type": "code",
   "execution_count": 12,
   "metadata": {},
   "outputs": [
    {
     "name": "stdout",
     "output_type": "stream",
     "text": [
      "5 2.2  type of a type of b <class 'int'> <class 'float'> <class 'complex'>\n",
      "True\n"
     ]
    }
   ],
   "source": [
    "#Every Value in python has a datatype, since everything is an obejct in python programming, data types are actually classes\n",
    "#and variables are instance(object of these classes)\n",
    "a = 5; b = 2.2; c = 1 + 2j;\n",
    "print(a, b,\" type of a\", \"type of b\", type(a), type(b), type(c))\n",
    "print(isinstance(1+2j, complex)) # to check the particular datatype of a number or value"
   ]
  },
  {
   "cell_type": "code",
   "execution_count": 13,
   "metadata": {},
   "outputs": [
    {
     "name": "stdout",
     "output_type": "stream",
     "text": [
      "<class 'bool'>\n"
     ]
    }
   ],
   "source": [
    "#Boolean represents the truth value False or True\n",
    "a = True\n",
    "print(type(a))\n"
   ]
  },
  {
   "cell_type": "code",
   "execution_count": 14,
   "metadata": {},
   "outputs": [
    {
     "name": "stdout",
     "output_type": "stream",
     "text": [
      "<class 'str'>\n",
      "this is spanning two lines\n",
      "first one and second one\n",
      "h\n",
      " is an onine course\n",
      "e\n",
      " this is an onine cours\n"
     ]
    }
   ],
   "source": [
    "#Python Strings\n",
    "#String is a sequence of Unicode Characters.\n",
    "#We can use single quotes or double quotes to represents strings\n",
    "#Mutli-line string can be denoted using triple quotes ''' \"\"\" \n",
    "\n",
    "s = \" this is an onine course\"\n",
    "print(type(s))\n",
    "ss = '''this is spanning two lines\n",
    "first one and second one'''\n",
    "print(ss)\n",
    "print(s[2])\n",
    "print(s[5:])\n",
    "print(s[-1])\n",
    "print(s[:-1])"
   ]
  },
  {
   "cell_type": "code",
   "execution_count": 15,
   "metadata": {},
   "outputs": [
    {
     "name": "stdout",
     "output_type": "stream",
     "text": [
      "[10, 5.5, 'hello']\n",
      "hello\n"
     ]
    }
   ],
   "source": [
    "#List is an ordered sequence of items. It is one of the most used datatype in python and is very flexible.\n",
    "#All the items in the list do not need to be of the same type.\n",
    "#Declaring a list is, items seperated by commas are enclosed within bracket []\n",
    "a = [10, 5.5, \"hello\"]\n",
    "print(a)\n",
    "print(a[2])"
   ]
  },
  {
   "cell_type": "code",
   "execution_count": 16,
   "metadata": {},
   "outputs": [
    {
     "name": "stdout",
     "output_type": "stream",
     "text": [
      "[10, 30.5, 'hello']\n"
     ]
    }
   ],
   "source": [
    "#List are mutable, meaning, valule of the list can be altered\n",
    "a[1] = 30.5\n",
    "print(a)"
   ]
  },
  {
   "cell_type": "code",
   "execution_count": 17,
   "metadata": {},
   "outputs": [
    {
     "name": "stdout",
     "output_type": "stream",
     "text": [
      "(23, 25.67, 'Faraz')\n"
     ]
    },
    {
     "ename": "TypeError",
     "evalue": "'tuple' object does not support item assignment",
     "output_type": "error",
     "traceback": [
      "\u001b[1;31m---------------------------------------------------------------------------\u001b[0m",
      "\u001b[1;31mTypeError\u001b[0m                                 Traceback (most recent call last)",
      "\u001b[1;32m<ipython-input-17-586f377fa1b3>\u001b[0m in \u001b[0;36m<module>\u001b[1;34m\u001b[0m\n\u001b[0;32m      3\u001b[0m \u001b[0mprint\u001b[0m\u001b[1;33m(\u001b[0m\u001b[0mt\u001b[0m\u001b[1;33m)\u001b[0m\u001b[1;33m\u001b[0m\u001b[1;33m\u001b[0m\u001b[0m\n\u001b[0;32m      4\u001b[0m \u001b[1;31m#However tuples are immutable.\u001b[0m\u001b[1;33m\u001b[0m\u001b[1;33m\u001b[0m\u001b[1;33m\u001b[0m\u001b[0m\n\u001b[1;32m----> 5\u001b[1;33m \u001b[0mt\u001b[0m\u001b[1;33m[\u001b[0m\u001b[1;36m2\u001b[0m\u001b[1;33m]\u001b[0m \u001b[1;33m=\u001b[0m \u001b[1;36m21\u001b[0m\u001b[1;33m\u001b[0m\u001b[1;33m\u001b[0m\u001b[0m\n\u001b[0m\u001b[0;32m      6\u001b[0m \u001b[0mprint\u001b[0m\u001b[1;33m(\u001b[0m\u001b[0mt\u001b[0m\u001b[1;33m)\u001b[0m\u001b[1;33m\u001b[0m\u001b[1;33m\u001b[0m\u001b[0m\n",
      "\u001b[1;31mTypeError\u001b[0m: 'tuple' object does not support item assignment"
     ]
    }
   ],
   "source": [
    "#Python Tuples\n",
    "t = (23, 25.67, \"Faraz\")\n",
    "print(t)\n",
    "#However tuples are immutable.\n",
    "t[2] = 21\n",
    "print(t)"
   ]
  },
  {
   "cell_type": "code",
   "execution_count": 20,
   "metadata": {},
   "outputs": [
    {
     "name": "stdout",
     "output_type": "stream",
     "text": [
      "{7, 10, 11, 17, 19, 21, 22}\n",
      "<class 'set'>\n",
      "{10, 20, 30}\n"
     ]
    }
   ],
   "source": [
    "#Python set\n",
    "#Set is an unordered collection of unique items. Set is defined by the values seperated by comma inside braces {}.\n",
    "#Items in the sets are not in order.\n",
    "a = {10, 17, 11, 19, 21, 7, 22}\n",
    "print(a)\n",
    "print(type(a))\n",
    "#print(a[1]) # we can't print a particular value in a set becuase it is an unordered collection of elements\n",
    "s = {10,10, 20,20, 30,30,30}\n",
    "print(s) # only unique values will be printed"
   ]
  },
  {
   "cell_type": "code",
   "execution_count": 21,
   "metadata": {},
   "outputs": [
    {
     "name": "stdout",
     "output_type": "stream",
     "text": [
      "apple\n"
     ]
    }
   ],
   "source": [
    "#Python Dictionary\n",
    "#Dictionary is an unordered pair of key value pairs.\n",
    "#In python dictionaries are defined in {} with each item being a pair in the form of key:value, key and value can be of any type\n",
    "d = { \"a\" : \"apple\", \"b\" : \"Basket\"}\n",
    "print(d[\"a\"])\n",
    "\n"
   ]
  },
  {
   "cell_type": "code",
   "execution_count": 22,
   "metadata": {},
   "outputs": [
    {
     "data": {
      "text/plain": [
       "5.0"
      ]
     },
     "execution_count": 22,
     "metadata": {},
     "output_type": "execute_result"
    }
   ],
   "source": [
    "#Converts between the data types\n",
    "float(5) #Converts integer to float\n"
   ]
  },
  {
   "cell_type": "code",
   "execution_count": 23,
   "metadata": {},
   "outputs": [
    {
     "data": {
      "text/plain": [
       "5"
      ]
     },
     "execution_count": 23,
     "metadata": {},
     "output_type": "execute_result"
    }
   ],
   "source": [
    "int(5.5) #converts float to integer"
   ]
  },
  {
   "cell_type": "code",
   "execution_count": 24,
   "metadata": {},
   "outputs": [
    {
     "data": {
      "text/plain": [
       "'20'"
      ]
     },
     "execution_count": 24,
     "metadata": {},
     "output_type": "execute_result"
    }
   ],
   "source": [
    "str(20) #convert integer to string"
   ]
  },
  {
   "cell_type": "code",
   "execution_count": 25,
   "metadata": {},
   "outputs": [
    {
     "name": "stdout",
     "output_type": "stream",
     "text": [
      "<class 'list'>\n",
      "<class 'set'>\n"
     ]
    }
   ],
   "source": [
    "#We can convert one sequence to another\n",
    "a = [1, 2, 3]\n",
    "print(type(a))\n",
    "s = set(a)\n",
    "print(type(s))"
   ]
  },
  {
   "cell_type": "code",
   "execution_count": 26,
   "metadata": {},
   "outputs": [
    {
     "data": {
      "text/plain": [
       "['H', 'E', 'L', 'L', 'O']"
      ]
     },
     "execution_count": 26,
     "metadata": {},
     "output_type": "execute_result"
    }
   ],
   "source": [
    "#converting sting to list\n",
    "list(\"HELLO\")"
   ]
  },
  {
   "cell_type": "code",
   "execution_count": 27,
   "metadata": {},
   "outputs": [
    {
     "name": "stdout",
     "output_type": "stream",
     "text": [
      "The Value of a is 10\n",
      "The Value of a is 10\n"
     ]
    }
   ],
   "source": [
    "#Variables in Python\n",
    "a = 10\n",
    "print(\"The Value of a is\", a)\n",
    "print(\"The Value of a is \" + str(a))"
   ]
  },
  {
   "cell_type": "code",
   "execution_count": 28,
   "metadata": {},
   "outputs": [
    {
     "name": "stdout",
     "output_type": "stream",
     "text": [
      "Value of a is 10 and value of B is 20\n",
      "Value of a is 20 and value of B is 10\n"
     ]
    }
   ],
   "source": [
    "#output formatting\n",
    "a= 10; b = 20;\n",
    "print(\"Value of a is {} and value of B is {}\" .format(a,b))\n",
    "print(\"Value of a is {1} and value of B is {0}\" .format(a,b))"
   ]
  },
  {
   "cell_type": "code",
   "execution_count": 29,
   "metadata": {},
   "outputs": [
    {
     "name": "stdout",
     "output_type": "stream",
     "text": [
      "Value of a is satish and value of b is ahmad\n"
     ]
    }
   ],
   "source": [
    "\n",
    "a= \"satish\"; b = \"ahmad\";\n",
    "print(\"Value of a is {} and value of b is {}\" .format(a,b))"
   ]
  },
  {
   "cell_type": "code",
   "execution_count": 30,
   "metadata": {},
   "outputs": [
    {
     "name": "stdout",
     "output_type": "stream",
     "text": [
      "stories of Bill, Tom and Faraz were spoken\n"
     ]
    }
   ],
   "source": [
    "\n",
    "print(\"stories of {0}, {1} and {others} were spoken\" .format(\"Bill\", \"Tom\", others= \"Faraz\"))"
   ]
  },
  {
   "cell_type": "code",
   "execution_count": 31,
   "metadata": {},
   "outputs": [
    {
     "name": "stdout",
     "output_type": "stream",
     "text": [
      "Enter You NameFaraz Ahmad\n",
      "Your Name is Faraz Ahmad\n"
     ]
    }
   ],
   "source": [
    "#python Input\n",
    "a= input(\"Enter You Name\")\n",
    "print(\"Your Name is \"+ a)"
   ]
  },
  {
   "cell_type": "code",
   "execution_count": 32,
   "metadata": {},
   "outputs": [
    {
     "name": "stdout",
     "output_type": "stream",
     "text": [
      "30 20 600\n",
      "10\n",
      "20\n",
      "100000000000000000000\n",
      "False\n"
     ]
    }
   ],
   "source": [
    "#Operators on Python#\n",
    "#1. Arithmetic, 2.Relational, 3.Logical, 4. Bitwise, 5. Assignment, 6. Special\n",
    "x , y = 10, 20\n",
    "z = x + y\n",
    "w = z - x\n",
    "v = w * z\n",
    "print(z, w, v)\n",
    "print(x%y)\n",
    "print(v//z)\n",
    "print(x**y)  # x^y\n",
    "print(x>y)"
   ]
  },
  {
   "cell_type": "code",
   "execution_count": 33,
   "metadata": {},
   "outputs": [
    {
     "ename": "SyntaxError",
     "evalue": "invalid syntax (<ipython-input-33-63fc9de33fbb>, line 5)",
     "output_type": "error",
     "traceback": [
      "\u001b[1;36m  File \u001b[1;32m\"<ipython-input-33-63fc9de33fbb>\"\u001b[1;36m, line \u001b[1;32m5\u001b[0m\n\u001b[1;33m    print(!x)\u001b[0m\n\u001b[1;37m          ^\u001b[0m\n\u001b[1;31mSyntaxError\u001b[0m\u001b[1;31m:\u001b[0m invalid syntax\n"
     ]
    }
   ],
   "source": [
    "#Logical Operators\n",
    "a, b = True, False\n",
    "print(a&b)\n",
    "print(a|b)\n",
    "print(!x)"
   ]
  },
  {
   "cell_type": "code",
   "execution_count": 34,
   "metadata": {},
   "outputs": [
    {
     "name": "stdout",
     "output_type": "stream",
     "text": [
      "20\n"
     ]
    }
   ],
   "source": [
    "\n",
    "a =10\n",
    "a += 10\n",
    "print(a)"
   ]
  },
  {
   "cell_type": "code",
   "execution_count": 35,
   "metadata": {},
   "outputs": [
    {
     "name": "stdout",
     "output_type": "stream",
     "text": [
      "True\n",
      "False\n",
      "True\n"
     ]
    }
   ],
   "source": [
    "\n",
    "#Identity operators, is and is not are identity operators in python\n",
    "#Object once created both pointed to the same memory location\n",
    "a = 5\n",
    "b = 9\n",
    "c = 5\n",
    "print(a is c)\n",
    "print(a is not c)\n",
    "\n",
    "s1 = \"AACI\"\n",
    "s2 = \"AACI\"\n",
    "print(s1 is s2)"
   ]
  },
  {
   "cell_type": "code",
   "execution_count": 36,
   "metadata": {},
   "outputs": [
    {
     "name": "stdout",
     "output_type": "stream",
     "text": [
      "False\n"
     ]
    }
   ],
   "source": [
    "#however in case of list it is not true\n",
    "l1= [1,2,3]\n",
    "l2= [1,2,3]\n",
    "print(l1 is l2)"
   ]
  },
  {
   "cell_type": "code",
   "execution_count": 37,
   "metadata": {},
   "outputs": [
    {
     "name": "stdout",
     "output_type": "stream",
     "text": [
      "True\n"
     ]
    }
   ],
   "source": [
    "#Membership operators\n",
    "#in and not in are the membership operator in python\n",
    "l3 = [1,2,3]\n",
    "print(1 in l3)"
   ]
  },
  {
   "cell_type": "code",
   "execution_count": 38,
   "metadata": {},
   "outputs": [
    {
     "name": "stdout",
     "output_type": "stream",
     "text": [
      "True\n"
     ]
    }
   ],
   "source": [
    "\n",
    "d = {1: \"a\", 2: \"b\"}\n",
    "print(1 in d)\n"
   ]
  },
  {
   "cell_type": "code",
   "execution_count": 39,
   "metadata": {},
   "outputs": [
    {
     "name": "stdout",
     "output_type": "stream",
     "text": [
      "number is positive\n",
      "Number is below 10\n"
     ]
    }
   ],
   "source": [
    "#Python if ... else statement\n",
    "#The if elif and else statement is used in Python for decision making\n",
    "# if statement syntax\n",
    "# if test expression:\n",
    "#     statement(s)   # thigs that are indented will only execute\n",
    "num = 10\n",
    "if num >= 10:\n",
    "    print(\"number is positive\")\n",
    "print(\"Number is below 10\") # this will print always"
   ]
  },
  {
   "cell_type": "code",
   "execution_count": 40,
   "metadata": {},
   "outputs": [
    {
     "name": "stdout",
     "output_type": "stream",
     "text": [
      "Number is below 10\n"
     ]
    }
   ],
   "source": [
    "num = 10\n",
    "if 0:   # except zero, false  and NONE everything will be taken as TRUE\n",
    "    print(\"number is positive\")\n",
    "print(\"Number is below 10\")"
   ]
  },
  {
   "cell_type": "code",
   "execution_count": 41,
   "metadata": {},
   "outputs": [
    {
     "name": "stdout",
     "output_type": "stream",
     "text": [
      "Negative Number\n"
     ]
    }
   ],
   "source": [
    "\n",
    "num = 0\n",
    "if num > 0:\n",
    "    print(\"Positive Number\")\n",
    "else:\n",
    "    print(\"Negative Number\")"
   ]
  },
  {
   "cell_type": "code",
   "execution_count": 42,
   "metadata": {},
   "outputs": [
    {
     "name": "stdout",
     "output_type": "stream",
     "text": [
      "Negative Number\n"
     ]
    }
   ],
   "source": [
    "num = -1\n",
    "if num > 0:\n",
    "    print(\"Positive Number\")\n",
    "elif num ==0:\n",
    "    print(\"Zero\")\n",
    "else:\n",
    "    print(\"Negative Number\")"
   ]
  },
  {
   "cell_type": "code",
   "execution_count": 43,
   "metadata": {},
   "outputs": [
    {
     "name": "stdout",
     "output_type": "stream",
     "text": [
      "Zero\n"
     ]
    }
   ],
   "source": [
    "\n",
    "num = 0\n",
    "if num>=0:\n",
    "    if num ==0:\n",
    "        print(\"Zero\")\n",
    "    else:\n",
    "        print(\"Positive Number\")\n",
    "else:\n",
    "    print(\"Negative Number\")"
   ]
  },
  {
   "cell_type": "code",
   "execution_count": 44,
   "metadata": {},
   "outputs": [
    {
     "name": "stdout",
     "output_type": "stream",
     "text": [
      "Largest number among three numbers is: 40\n",
      "40\n"
     ]
    }
   ],
   "source": [
    "num1 = 10\n",
    "num2 = 40\n",
    "num3 = 30\n",
    "if(num1>=num2) and (num1>=num3):\n",
    "    largest = num1\n",
    "elif(num2>=num1) and (num2>=num3):\n",
    "    largest = num2\n",
    "else:\n",
    "    largest = num3\n",
    "print(\"Largest number among three numbers is: {}\". format(largest))\n",
    "print(largest)"
   ]
  },
  {
   "cell_type": "code",
   "execution_count": 45,
   "metadata": {},
   "outputs": [],
   "source": [
    "\n",
    "#Python While Loop\n",
    "#The while loop in Python is used to iterate over a block of code\n",
    "#as long as the test expression (condtion) is true\n",
    "#Syntax\n",
    "# while test_expression\n",
    "    #body of the loop"
   ]
  },
  {
   "cell_type": "code",
   "execution_count": 46,
   "metadata": {},
   "outputs": [
    {
     "name": "stdout",
     "output_type": "stream",
     "text": [
      "Product of all the elements is: 288000\n",
      "288000\n"
     ]
    }
   ],
   "source": [
    "\n",
    "lst1 = [12, 20, 30, 40]\n",
    "prod = 1\n",
    "index = 0\n",
    "while index < len(lst1):\n",
    "    prod *=lst1[index]\n",
    "    index += 1\n",
    "print(\"Product of all the elements is: {}\" .format(prod))\n",
    "print(prod)"
   ]
  },
  {
   "cell_type": "code",
   "execution_count": 47,
   "metadata": {},
   "outputs": [],
   "source": [
    "#while loop with else\n",
    "#Same as that of for loop, we can have an optional else block \n",
    "#with the while loop as well.\n",
    "#The else part is executed if the condtion in the loop evluated to false.\n",
    "#The while loop can be terminated with a break statement.\n",
    "#In such case, the else art is ignored. Hence a while loop's part runs if no break\n",
    "#occurs and the condition is false"
   ]
  },
  {
   "cell_type": "code",
   "execution_count": 1,
   "metadata": {},
   "outputs": [
    {
     "name": "stdout",
     "output_type": "stream",
     "text": [
      "1\n",
      "2\n",
      "3\n",
      "4\n",
      "5\n",
      "List is exhausted\n"
     ]
    }
   ],
   "source": [
    "number = [1,2,3,4,5]\n",
    "index = 0\n",
    "while index < len(number):\n",
    "    print(number[index])\n",
    "    index +=1 # if we remove this line the loop will run infinitely\n",
    "else:\n",
    "    print(\"List is exhausted\")"
   ]
  },
  {
   "cell_type": "code",
   "execution_count": 49,
   "metadata": {},
   "outputs": [
    {
     "name": "stdout",
     "output_type": "stream",
     "text": [
      "Enter a number55\n",
      "55 is divisible by 5\n",
      "55 is divisible by 11\n",
      "55 is not a prime\n"
     ]
    }
   ],
   "source": [
    "#Python program to check whether a number is prime or not\n",
    "num = int(input(\"Enter a number\"))\n",
    "isdivisible = False\n",
    "i = 2;\n",
    "while i <num:\n",
    "    if num%i == 0:\n",
    "        isdivisible = True\n",
    "        print(\"{} is divisible by {}\" . format(num,i))\n",
    "    i +=1\n",
    "if isdivisible:\n",
    "    print(\"{} is not a prime\".format(num))\n",
    "else:\n",
    "    print(\"{} is prime\".format(num))"
   ]
  },
  {
   "cell_type": "code",
   "execution_count": 50,
   "metadata": {},
   "outputs": [
    {
     "name": "stdout",
     "output_type": "stream",
     "text": [
      "240000\n"
     ]
    }
   ],
   "source": [
    "#Python For Loop\n",
    "#Syntax\n",
    "#for element in sequence:\n",
    "#    Body of for\n",
    "num= [10, 20, 30, 40]\n",
    "product = 1\n",
    "for i in num:\n",
    "    product *=i\n",
    "print(product)\n"
   ]
  },
  {
   "cell_type": "code",
   "execution_count": 51,
   "metadata": {},
   "outputs": [
    {
     "name": "stdout",
     "output_type": "stream",
     "text": [
      "0\n",
      "1\n",
      "2\n",
      "3\n",
      "4\n",
      "5\n",
      "6\n",
      "7\n",
      "8\n",
      "9\n",
      "1\n",
      "4\n",
      "7\n"
     ]
    }
   ],
   "source": [
    "for i in range(10):\n",
    "    print(i)\n",
    "\n",
    "\n",
    "# In[62]:\n",
    "\n",
    "\n",
    "for i in range(1,10,3):\n",
    "    print(i)"
   ]
  },
  {
   "cell_type": "code",
   "execution_count": 52,
   "metadata": {},
   "outputs": [
    {
     "name": "stdout",
     "output_type": "stream",
     "text": [
      "Ahmad\n",
      "Faraz\n",
      "Khan\n"
     ]
    }
   ],
   "source": [
    "list1 = [\"Ahmad\", \"Faraz\", \"Khan\"]\n",
    "index = 0\n",
    "for i in range(len(list1)):\n",
    "    print(list1[index])\n",
    "    index +=1"
   ]
  },
  {
   "cell_type": "code",
   "execution_count": 53,
   "metadata": {},
   "outputs": [
    {
     "name": "stdout",
     "output_type": "stream",
     "text": [
      "Ahmad\n",
      "Faraz\n",
      "Khan\n",
      "Pathan\n"
     ]
    }
   ],
   "source": [
    "list1 = [\"Ahmad\", \"Faraz\", \"Khan\", \"Pathan\"]\n",
    "#iterate over the list using index\n",
    "for index in range(len(list1)):\n",
    "    print(list1[index])"
   ]
  },
  {
   "cell_type": "code",
   "execution_count": 54,
   "metadata": {},
   "outputs": [
    {
     "name": "stdout",
     "output_type": "stream",
     "text": [
      "Ahmad\n",
      "Faraz\n",
      "Khan\n",
      "Pathan\n"
     ]
    }
   ],
   "source": [
    "\n",
    "list1 = [\"Ahmad\", \"Faraz\", \"Khan\", \"Pathan\"]\n",
    "for i in list1:\n",
    "    print(i)\n"
   ]
  },
  {
   "cell_type": "code",
   "execution_count": 55,
   "metadata": {},
   "outputs": [
    {
     "name": "stdout",
     "output_type": "stream",
     "text": [
      "1\n",
      "2\n",
      "3\n",
      "4\n",
      "5\n",
      "No element left in the list\n"
     ]
    }
   ],
   "source": [
    "#For loop also have an optional else block \n",
    "number = [1,2,3,4,5]\n",
    "for i in number:\n",
    "    print(i)\n",
    "else:\n",
    "    print(\"No element left in the list\")\n"
   ]
  },
  {
   "cell_type": "code",
   "execution_count": 56,
   "metadata": {},
   "outputs": [
    {
     "name": "stdout",
     "output_type": "stream",
     "text": [
      "The 22 indexed element which is 23 is a prime\n",
      "The 28 indexed element which is 29 is a prime\n",
      "The 30 indexed element which is 31 is a prime\n",
      "The 36 indexed element which is 37 is a prime\n",
      "The 40 indexed element which is 41 is a prime\n",
      "The 42 indexed element which is 43 is a prime\n",
      "The 46 indexed element which is 47 is a prime\n",
      "Total number of prime elements between 20 and 50 are 7\n"
     ]
    }
   ],
   "source": [
    "#python program to display all the prime numbers within an interval\n",
    "count = 0\n",
    "index1 = 20\n",
    "index2 = 50\n",
    "for num in range(index1, index2+1):\n",
    "    ##print(index)\n",
    "    #print(num)\n",
    "    if num > 1:\n",
    "        isdivisable = False\n",
    "        for index in range(2, num):\n",
    "            if num%index == 0:\n",
    "                isdivisable = True\n",
    "        if not isdivisable:\n",
    "            count += 1\n",
    "            print(\"The {} indexed element which is {} is a prime\".format(index,num))\n",
    "            \n",
    "print(\"Total number of prime elements between {} and {} are {}\". format(index1, index2, count))"
   ]
  },
  {
   "cell_type": "code",
   "execution_count": 58,
   "metadata": {},
   "outputs": [
    {
     "name": "stdout",
     "output_type": "stream",
     "text": [
      "1\n",
      "2\n",
      "Outside for loop\n"
     ]
    }
   ],
   "source": [
    "#Python Break and Continue Statements\n",
    "number = [1,2,3,4]\n",
    "for num in number:\n",
    "    if num == 3:\n",
    "    #if num == 5:\n",
    "        break\n",
    "    print(num)\n",
    "else:\n",
    "    print(\"In the else block\")\n",
    "print(\"Outside for loop\")"
   ]
  },
  {
   "cell_type": "code",
   "execution_count": 59,
   "metadata": {},
   "outputs": [
    {
     "name": "stdout",
     "output_type": "stream",
     "text": [
      "Enter a number: 8\n",
      "8 is divisable by 2\n",
      "8 is not a prime\n"
     ]
    }
   ],
   "source": [
    "#Finding a number is prime using break statement\n",
    "num = int(input(\"Enter a number: \"))\n",
    "isdivisable = False\n",
    "\n",
    "i = 2\n",
    "while i<num:\n",
    "    if num%i == 0:\n",
    "        isdivisable = True\n",
    "        print(\"{} is divisable by {}\". format(num,i))\n",
    "        break; # instead of checking all the numbers by which the number is divisible, we break immediately as we get the first factor\n",
    "    i +=1\n",
    "if isdivisable:\n",
    "    print(\"{} is not a prime\".format(num))\n",
    "else:\n",
    "    print(\"{} is a prime\". format(num))"
   ]
  },
  {
   "cell_type": "code",
   "execution_count": 60,
   "metadata": {},
   "outputs": [
    {
     "name": "stdout",
     "output_type": "stream",
     "text": [
      "1\n",
      "3\n",
      "5\n",
      "else-block\n"
     ]
    }
   ],
   "source": [
    "# continue\n",
    "numbers = [1,2,3,4,5]\n",
    "for num in numbers:\n",
    "    if num % 2 ==0:\n",
    "        continue\n",
    "    print(num)\n",
    "else:\n",
    "    print(\"else-block\")"
   ]
  },
  {
   "cell_type": "code",
   "execution_count": null,
   "metadata": {},
   "outputs": [],
   "source": []
  }
 ],
 "metadata": {
  "kernelspec": {
   "display_name": "Python 3 (ipykernel)",
   "language": "python",
   "name": "python3"
  },
  "language_info": {
   "codemirror_mode": {
    "name": "ipython",
    "version": 3
   },
   "file_extension": ".py",
   "mimetype": "text/x-python",
   "name": "python",
   "nbconvert_exporter": "python",
   "pygments_lexer": "ipython3",
   "version": "3.10.9"
  }
 },
 "nbformat": 4,
 "nbformat_minor": 4
}
