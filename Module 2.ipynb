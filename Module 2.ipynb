{
 "cells": [
  {
   "cell_type": "code",
   "execution_count": 2,
   "metadata": {},
   "outputs": [
    {
     "name": "stdout",
     "output_type": "stream",
     "text": [
      "[1, 'ramu', 24, 29.98] ['one', 'Two', 'Three', 'four']\n",
      "4\n"
     ]
    }
   ],
   "source": [
    "#List Data Structures\n",
    "# List is one of the sequence of the Data Structure\n",
    "# Lists are collection of items[Strings, integer or even other lists]\n",
    "# Lists are enclosed in []\n",
    "# Each item in the list has an assigned index value.\n",
    "# List are mutable, means item in the list can be changed.\n",
    "\n",
    "emptyList = []\n",
    "lst = [\"one\", \"Two\", \"Three\", \"four\"] # list of Strings\n",
    "lst2 = [1,2,3,4] # list of integers\n",
    "lst3 = [[1,2], [3,4]] # list of lists\n",
    "lst4 = [1, \"ramu\", 24, 29.98] #list of different datatypes\n",
    "\n",
    "print(lst4, lst)\n",
    "\n",
    "print(len(lst4)) # Lenth of the list"
   ]
  },
  {
   "cell_type": "code",
   "execution_count": 3,
   "metadata": {},
   "outputs": [
    {
     "name": "stdout",
     "output_type": "stream",
     "text": [
      "['One', 'Two', 'Three', 'Four', 'Five']\n"
     ]
    }
   ],
   "source": [
    "#List Append\n",
    "lst = [\"One\", \"Two\",\"Three\",\"Four\"]\n",
    "lst.append(\"Five\")\n",
    "print(lst)"
   ]
  },
  {
   "cell_type": "code",
   "execution_count": 4,
   "metadata": {},
   "outputs": [
    {
     "name": "stdout",
     "output_type": "stream",
     "text": [
      "['One', 'Two', 'Nine', 'Three', 'Four']\n"
     ]
    }
   ],
   "source": [
    "#List insert\n",
    "lst = [\"One\", \"Two\",\"Three\",\"Four\"]\n",
    "lst.insert(2,\"Nine\")\n",
    "print(lst)\n"
   ]
  },
  {
   "cell_type": "code",
   "execution_count": 5,
   "metadata": {},
   "outputs": [
    {
     "name": "stdout",
     "output_type": "stream",
     "text": [
      "['One', 'Three', 'Four']\n"
     ]
    }
   ],
   "source": [
    "\n",
    "#List Remove\n",
    "lst = [\"One\", \"Two\",\"Three\",\"Four\"]\n",
    "lst.remove(\"Two\")\n",
    "print(lst)\n"
   ]
  },
  {
   "cell_type": "code",
   "execution_count": 6,
   "metadata": {},
   "outputs": [
    {
     "name": "stdout",
     "output_type": "stream",
     "text": [
      "['One', 'Two', 'Three', 'Four', ['One', 'Two', 'Three', 'Four', 'Five']]\n"
     ]
    }
   ],
   "source": [
    "#List append\n",
    "lst = [\"One\", \"Two\",\"Three\",\"Four\"]\n",
    "lst1 = [\"One\", \"Two\",\"Three\",\"Four\", \"Five\"]\n",
    "lst.append(lst1)\n",
    "print(lst)\n"
   ]
  },
  {
   "cell_type": "code",
   "execution_count": 7,
   "metadata": {},
   "outputs": [
    {
     "name": "stdout",
     "output_type": "stream",
     "text": [
      "['One', 'Two', 'Three', 'Four', 'One', 'Two', 'Three', 'Four', 'Five']\n"
     ]
    }
   ],
   "source": [
    "#List extend\n",
    "lst = [\"One\", \"Two\",\"Three\",\"Four\"]\n",
    "lst1 = [\"One\", \"Two\",\"Three\",\"Four\", \"Five\"]\n",
    "lst.extend(lst1)\n",
    "print(lst)"
   ]
  },
  {
   "cell_type": "code",
   "execution_count": 8,
   "metadata": {},
   "outputs": [
    {
     "name": "stdout",
     "output_type": "stream",
     "text": [
      "['One', 'Three', 'Four', 'Five']\n",
      "Three\n",
      "['One', 'Four', 'Five']\n",
      "['One', 'Four']\n"
     ]
    }
   ],
   "source": [
    "#List Delete, #remove\n",
    "lst1 = [\"One\", \"Two\",\"Three\",\"Four\", \"Five\"]\n",
    "del lst1[1]\n",
    "print(lst1)\n",
    "a= lst1.pop(1)\n",
    "print(a)\n",
    "print(lst1)\n",
    "lst1.remove(\"Five\")\n",
    "print(lst1)"
   ]
  },
  {
   "cell_type": "code",
   "execution_count": 9,
   "metadata": {},
   "outputs": [
    {
     "name": "stdout",
     "output_type": "stream",
     "text": [
      "AI\n",
      "ML\n"
     ]
    }
   ],
   "source": [
    "#Keyword 'in' is used to test if an item is in a list \n",
    "lst = ['one','two','three','four']\n",
    "if 'two' in lst:\n",
    "    print(\"AI\")\n",
    "if 'six' not in lst:\n",
    "    print(\"ML\")"
   ]
  },
  {
   "cell_type": "code",
   "execution_count": 10,
   "metadata": {},
   "outputs": [
    {
     "name": "stdout",
     "output_type": "stream",
     "text": [
      "['Four', 'Three', 'Two', 'one']\n"
     ]
    }
   ],
   "source": [
    "#List Reverse\n",
    "lst = [\"one\",\"Two\",\"Three\",\"Four\"]\n",
    "lst.reverse()\n",
    "print(lst)"
   ]
  },
  {
   "cell_type": "code",
   "execution_count": 11,
   "metadata": {},
   "outputs": [
    {
     "name": "stdout",
     "output_type": "stream",
     "text": [
      "[7, 9, 9, 23, 33, 44, 92]\n",
      "[92, 44, 33, 23, 9, 9, 7]\n"
     ]
    }
   ],
   "source": [
    "#Sorting both in ascending and descending orders\n",
    "numbers = [23,44,9,92,7,9,33]\n",
    "sorted_lst = sorted(numbers)\n",
    "print(sorted_lst)\n",
    "sorted_lst = sorted(numbers, reverse = True)\n",
    "print(sorted_lst)"
   ]
  },
  {
   "cell_type": "code",
   "execution_count": 12,
   "metadata": {},
   "outputs": [
    {
     "name": "stdout",
     "output_type": "stream",
     "text": [
      "[1, 4.3, 5, 5, 20]\n"
     ]
    }
   ],
   "source": [
    "\n",
    "lst = [1,20,5,5,4.3]\n",
    "lst.sort()\n",
    "print(lst) #sort the list and stored in itself\n"
   ]
  },
  {
   "cell_type": "code",
   "execution_count": 13,
   "metadata": {},
   "outputs": [
    {
     "ename": "TypeError",
     "evalue": "'<' not supported between instances of 'str' and 'int'",
     "output_type": "error",
     "traceback": [
      "\u001b[1;31m---------------------------------------------------------------------------\u001b[0m",
      "\u001b[1;31mTypeError\u001b[0m                                 Traceback (most recent call last)",
      "\u001b[1;32m<ipython-input-13-0d08dad6f2cb>\u001b[0m in \u001b[0;36m<module>\u001b[1;34m\u001b[0m\n\u001b[0;32m      1\u001b[0m \u001b[0mlst\u001b[0m \u001b[1;33m=\u001b[0m \u001b[1;33m[\u001b[0m\u001b[1;36m1\u001b[0m\u001b[1;33m,\u001b[0m\u001b[1;36m20\u001b[0m\u001b[1;33m,\u001b[0m\u001b[1;36m5\u001b[0m\u001b[1;33m,\u001b[0m\u001b[1;36m5\u001b[0m\u001b[1;33m,\u001b[0m\u001b[1;34m'b'\u001b[0m\u001b[1;33m,\u001b[0m\u001b[1;36m4.3\u001b[0m\u001b[1;33m]\u001b[0m\u001b[1;33m\u001b[0m\u001b[1;33m\u001b[0m\u001b[0m\n\u001b[1;32m----> 2\u001b[1;33m \u001b[0mlst\u001b[0m\u001b[1;33m.\u001b[0m\u001b[0msort\u001b[0m\u001b[1;33m(\u001b[0m\u001b[1;33m)\u001b[0m\u001b[1;33m\u001b[0m\u001b[1;33m\u001b[0m\u001b[0m\n\u001b[0m\u001b[0;32m      3\u001b[0m \u001b[1;31m#int and char are not sorted at once within the same list\u001b[0m\u001b[1;33m\u001b[0m\u001b[1;33m\u001b[0m\u001b[1;33m\u001b[0m\u001b[0m\n",
      "\u001b[1;31mTypeError\u001b[0m: '<' not supported between instances of 'str' and 'int'"
     ]
    }
   ],
   "source": [
    "lst = [1,20,5,5,'b',4.3]\n",
    "lst.sort()\n",
    "#int and char are not sorted at once within the same list"
   ]
  },
  {
   "cell_type": "code",
   "execution_count": null,
   "metadata": {},
   "outputs": [],
   "source": [
    "\n",
    "#List Having Multiple References\n",
    "lst = [ 1,2,3,4,5]\n",
    "abc = lst\n",
    "abc.append(6)\n",
    "print(lst)"
   ]
  },
  {
   "cell_type": "code",
   "execution_count": null,
   "metadata": {},
   "outputs": [],
   "source": [
    "#String split to create a list using delimiter\n",
    "lst = \"My name is Faraz, I am Assistant Professor at Lingaya's Vidyapeeth\"\n",
    "a = lst.split(',')\n",
    "print(a)\n",
    "a = lst.split() # bydefault split is white-character: space or tab\n",
    "print(a)\n"
   ]
  },
  {
   "cell_type": "code",
   "execution_count": null,
   "metadata": {},
   "outputs": [],
   "source": [
    "\n",
    "#List Indexing\n",
    "lst = [1,2,3,4]\n",
    "print(lst[1])\n",
    "print(lst[-1])\n"
   ]
  },
  {
   "cell_type": "code",
   "execution_count": null,
   "metadata": {},
   "outputs": [],
   "source": [
    "#List SLicing\n",
    "numbers = [1, 2, 3, 4, 5, 6]\n",
    "print(numbers[:])\n",
    "#print from index 0 to 3\n",
    "print(numbers[0:4])\n",
    "#numbers[startindex: endindex: stepsize]\n",
    "print(numbers[::2])\n",
    "print(numbers[2::2])"
   ]
  },
  {
   "cell_type": "code",
   "execution_count": null,
   "metadata": {},
   "outputs": [],
   "source": [
    "\n",
    "#List extend using \"+\" sign\n",
    "lst1 = [1,2,3]\n",
    "lst2 = [4,5,6, \"Naveen\", \"Waseem\"]\n",
    "new_lst = lst1 + lst2\n",
    "print(new_lst)"
   ]
  },
  {
   "cell_type": "code",
   "execution_count": null,
   "metadata": {},
   "outputs": [],
   "source": [
    "\n",
    "#List Count\n",
    "numbers = [1,2,3,4,5,6,1,2,3,4,5,6,6,6,1,1,2,2,3,3,4]\n",
    "print(numbers.count(6))"
   ]
  },
  {
   "cell_type": "code",
   "execution_count": null,
   "metadata": {},
   "outputs": [],
   "source": [
    "\n",
    "#List looping\n",
    "numbers = [1,2,3,4,5,6,1,2,3,4,5,6,6,6,1,1,2,2,3,3,4]\n",
    "for i in numbers:\n",
    "    print(i)\n"
   ]
  },
  {
   "cell_type": "code",
   "execution_count": null,
   "metadata": {},
   "outputs": [],
   "source": [
    "#List Comprehensions: Provides a concise way to create lists\n",
    "#Common applications are to make new lists where each elements\n",
    "#is the result of some operations applied to each member of another\n",
    "#sequence or iterable,or to create a subsequence of those elements\n",
    "#that satisfy a certain condition.\n",
    "\n",
    "#without list comprehension\n",
    "squares = []\n",
    "for i in range(10):\n",
    "    squares.append(i**2) #power operator\n",
    "print(squares)\n",
    "    "
   ]
  },
  {
   "cell_type": "code",
   "execution_count": null,
   "metadata": {},
   "outputs": [],
   "source": [
    "#using list comprehension\n",
    "squares= [i**2 for i in range(10)]\n",
    "print(squares)\n"
   ]
  },
  {
   "cell_type": "code",
   "execution_count": null,
   "metadata": {},
   "outputs": [],
   "source": [
    "lst = [-10,-20,-30,-40,10,20,30,40]\n",
    "new_lst = [i*2 for i in lst]\n",
    "print(new_lst)"
   ]
  },
  {
   "cell_type": "code",
   "execution_count": null,
   "metadata": {},
   "outputs": [],
   "source": [
    "\n",
    "lst = [-10,-20,-30,-40,10,20,30,40]\n",
    "new_lst = [i*2 for i in lst if i>=0]\n",
    "print(new_lst)\n"
   ]
  },
  {
   "cell_type": "code",
   "execution_count": 4,
   "metadata": {},
   "outputs": [
    {
     "name": "stdout",
     "output_type": "stream",
     "text": [
      "[(10, 20), (20, 40), (30, 60), (40, 80)]\n"
     ]
    }
   ],
   "source": [
    "lst = [-10,-20,-30,-40,10,20,30,40]\n",
    "new_lst = [(i,i*2) for i in lst if i>=0]\n",
    "print(new_lst)\n"
   ]
  },
  {
   "cell_type": "code",
   "execution_count": null,
   "metadata": {},
   "outputs": [],
   "source": [
    "\n",
    "new_lst = [(i,i*2) for i in range(10) if i>8]\n",
    "print(new_lst)"
   ]
  },
  {
   "cell_type": "code",
   "execution_count": null,
   "metadata": {},
   "outputs": [],
   "source": [
    "# Nested List Comprehension\n",
    "\n",
    "matrix = [\n",
    "    [1,2,3,4],\n",
    "    [3,4,5,6],\n",
    "    [5,6,7,8]\n",
    "]\n",
    "transpose = []\n",
    "for i in range(4):\n",
    "    lst=[]\n",
    "    for row in matrix:\n",
    "        lst.append(row[i])\n",
    "        #print(lst)\n",
    "    transpose.append(lst)\n",
    "print(transpose)"
   ]
  },
  {
   "cell_type": "code",
   "execution_count": null,
   "metadata": {},
   "outputs": [],
   "source": [
    "#with list comprehension\n",
    "trasnpose = [[row[i] for row in matrix] for i in range(4)]\n",
    "print(transpose)"
   ]
  },
  {
   "cell_type": "code",
   "execution_count": null,
   "metadata": {},
   "outputs": [],
   "source": [
    "##Tuples\n",
    "#Tuples are similar to the list\n",
    "#The difference between the two us that we can't change the lemenets\n",
    "#of tuples once it is assigned wheras in the list, elemenets can be changes\n",
    "# Tuples are immutable, whereas list are mutable\n",
    "\n",
    "#empty typle\n",
    "t = ()\n",
    "print(t)\n",
    "#tuple having integers\n",
    "t = (1,2,3)\n",
    "print(t)\n",
    "#tuple with mixed datatypes\n",
    "t = (1,2, \"apple\", 3, \"Raju\", 4.44, \"Abc\")\n",
    "print(t)\n",
    "#Nested Tuple\n",
    "t =(1, (1,2,3), [1,2,3,\"Raju\", \"ABc\",2.22])\n",
    "print(t)"
   ]
  },
  {
   "cell_type": "code",
   "execution_count": null,
   "metadata": {},
   "outputs": [],
   "source": [
    "#For tuple paranthesis is not enough\n",
    "t =(\"Satish\")\n",
    "type(t) # it is of string type instead of tuple\n"
   ]
  },
  {
   "cell_type": "code",
   "execution_count": null,
   "metadata": {},
   "outputs": [],
   "source": [
    "\n",
    "#we need to put comma at the end, However if we have more than one element that there will be no proble\n",
    "t = (\"Satish\",)\n",
    "type(t)"
   ]
  },
  {
   "cell_type": "code",
   "execution_count": null,
   "metadata": {},
   "outputs": [],
   "source": [
    "#Paranthesis is optional\n",
    "t = \"Satish\",\n",
    "print(type(t))\n",
    "print(t)\n"
   ]
  },
  {
   "cell_type": "code",
   "execution_count": null,
   "metadata": {},
   "outputs": [],
   "source": [
    "#Accessing Elements in Tuple\n",
    "t = (1,2, \"apple\", 3, \"Raju\", 4.44, \"Abc\")\n",
    "print(t[2])"
   ]
  },
  {
   "cell_type": "code",
   "execution_count": null,
   "metadata": {},
   "outputs": [],
   "source": [
    "t =(1, (1,2,3), [1,2,3,\"Raju\", \"ABc\",2.22])\n",
    "print(t[2])\n",
    "print(t[2][3])\n",
    "print(t[-2])"
   ]
  },
  {
   "cell_type": "code",
   "execution_count": null,
   "metadata": {},
   "outputs": [],
   "source": [
    "t = (1,2,3,4,5,6)\n",
    "print(t[1:4])\n",
    "print(t[0:5:2])\n",
    "print(t[:-2])\n",
    "print(t[:-1:2])"
   ]
  },
  {
   "cell_type": "code",
   "execution_count": null,
   "metadata": {},
   "outputs": [],
   "source": [
    "t =(1, (1,2,3), [1,2,3,\"Raju\", \"ABc\",2.22])\n",
    "t[2] = \"x\"\n"
   ]
  },
  {
   "cell_type": "code",
   "execution_count": null,
   "metadata": {},
   "outputs": [],
   "source": [
    "#List inside the tuple can be mutable\n",
    "t =(1, (1,2,3), [1,2,3,\"Raju\", \"ABc\",2.22])\n",
    "t[2][2] = \"x\"\n",
    "print(t)"
   ]
  },
  {
   "cell_type": "code",
   "execution_count": null,
   "metadata": {},
   "outputs": [],
   "source": [
    "#concatenate Tuple\n",
    "t = (1,2,3) + (4,5,6)\n",
    "print(t)\n"
   ]
  },
  {
   "cell_type": "code",
   "execution_count": null,
   "metadata": {},
   "outputs": [],
   "source": [
    "#repeate the elements in a tuple for a given number of times\n",
    "t = ((\"Satish\",)*4)\n",
    "print(t)\n"
   ]
  },
  {
   "cell_type": "code",
   "execution_count": null,
   "metadata": {},
   "outputs": [],
   "source": [
    "#Tuple Deletion\n",
    "#We cannot change the elements in a tuple.\n",
    "#That also means we cannot delete or remove items from a tuple\n",
    "\n",
    "#delete entire tuples using del keyword\n",
    "t = (1,2,3,4,5)\n",
    "del t"
   ]
  },
  {
   "cell_type": "code",
   "execution_count": null,
   "metadata": {},
   "outputs": [],
   "source": [
    "#Tuple Count\n",
    "t = (1,2,3,4,5,6,1,2,3,4,5)\n",
    "t.count(1)"
   ]
  },
  {
   "cell_type": "code",
   "execution_count": null,
   "metadata": {},
   "outputs": [],
   "source": [
    "#Tuple Index\n",
    "t = (1,2,3,4,5,6,1,2,3,4,5)\n",
    "print(t.index(3)) #return index of the first element is equal to 3\n",
    "\n"
   ]
  },
  {
   "cell_type": "code",
   "execution_count": null,
   "metadata": {},
   "outputs": [],
   "source": [
    "\n",
    "#Tuple Membership\n",
    "t = (1,2,3,4,5,6,1,2,3,4,5)\n",
    "print(3 in t)\n",
    "print(7 in t)\n"
   ]
  },
  {
   "cell_type": "code",
   "execution_count": null,
   "metadata": {},
   "outputs": [],
   "source": [
    "#Built in Fuctions\n",
    "#Tuple Length\n",
    "t = (1,2,3,4,5,6)\n",
    "print(len(t))\n",
    "print(max(t))\n",
    "print(min(t))\n",
    "print(sum(t))"
   ]
  },
  {
   "cell_type": "code",
   "execution_count": null,
   "metadata": {},
   "outputs": [],
   "source": [
    "\n",
    "#Tuple Sort\n",
    "t = (3,5,1,2,7,9,2)\n",
    "t1 = sorted(t)\n",
    "print(t1)"
   ]
  },
  {
   "cell_type": "code",
   "execution_count": null,
   "metadata": {},
   "outputs": [],
   "source": [
    "#List Data Structures\n",
    "# List is one of the sequence of the Data Structure\n",
    "# Lists are collection of items[Strings, integer or even other lists]\n",
    "# Lists are enclosed in []\n",
    "# Each item in the list has an assigned index value.\n",
    "# List are mutable, means item in the list can be changed.\n",
    "\n",
    "emptyList = []\n",
    "lst = [\"one\", \"Two\", \"Three\", \"four\"] # list of Strings\n",
    "lst2 = [1,2,3,4] # list of integers\n",
    "lst3 = [[1,2], [3,4]] # list of lists\n",
    "lst4 = [1, \"ramu\", 24, 29.98] #list of different datatypes\n",
    "\n",
    "print(lst4, lst)\n",
    "\n",
    "print(len(lst4)) # Lenth of the list"
   ]
  },
  {
   "cell_type": "code",
   "execution_count": null,
   "metadata": {},
   "outputs": [],
   "source": [
    "#Sets is an unordered collection of items.\n",
    "s = {1,2,3}\n",
    "print(s)\n",
    "print(type(s))"
   ]
  },
  {
   "cell_type": "code",
   "execution_count": null,
   "metadata": {},
   "outputs": [],
   "source": [
    "#set does not allow duplicate values. They store only one instance.\n",
    "s = {1,2,3,1,4}\n",
    "print(s)"
   ]
  },
  {
   "cell_type": "code",
   "execution_count": null,
   "metadata": {},
   "outputs": [],
   "source": [
    "#we can make set from a list\n",
    "s = set([1,2,3,4,5,1])\n",
    "print(s)"
   ]
  },
  {
   "cell_type": "code",
   "execution_count": null,
   "metadata": {},
   "outputs": [],
   "source": [
    "#initialize a set with set() method\n",
    "s = set()\n",
    "print(type(s))"
   ]
  },
  {
   "cell_type": "code",
   "execution_count": null,
   "metadata": {},
   "outputs": [],
   "source": [
    "#set is unordered, means we cannot index\n",
    "s = {1,3}\n",
    "print(s[1])"
   ]
  },
  {
   "cell_type": "code",
   "execution_count": null,
   "metadata": {},
   "outputs": [],
   "source": [
    "#Sets are mutable; henace we can add elements to the sets\n",
    "\n",
    "s.add(2)\n",
    "print(s)"
   ]
  },
  {
   "cell_type": "code",
   "execution_count": null,
   "metadata": {},
   "outputs": [],
   "source": [
    "#we can add multiple elements to the set\n",
    "s.update([5,6,7])\n",
    "print(s)"
   ]
  },
  {
   "cell_type": "code",
   "execution_count": null,
   "metadata": {},
   "outputs": [],
   "source": [
    "#add list and set\n",
    "s.update([8,9],{10,1,2,11})\n",
    "print(s)"
   ]
  },
  {
   "cell_type": "code",
   "execution_count": null,
   "metadata": {},
   "outputs": [],
   "source": [
    "#delete an item from the set, if an item does not exists in a set discard() does not raie an error\n",
    "print(s)\n",
    "s.discard(2)\n",
    "print(s)\n"
   ]
  },
  {
   "cell_type": "code",
   "execution_count": null,
   "metadata": {},
   "outputs": [],
   "source": [
    "#remove an item from the set, if item does not exists in a set then remove will raise an error.\n",
    "s.remove(3)\n",
    "print(s)\n",
    "s.remove(12)\n",
    "print(s)"
   ]
  },
  {
   "cell_type": "code",
   "execution_count": null,
   "metadata": {},
   "outputs": [],
   "source": [
    "#we can remove item using pop() method\n",
    "s = {1,2,3,4,5}\n",
    "s.pop() #remove random element\n",
    "print(s)"
   ]
  },
  {
   "cell_type": "code",
   "execution_count": null,
   "metadata": {},
   "outputs": [],
   "source": [
    "s = {1,2,3,4,5}\n",
    "s.clear() # remove all the itmes in set using clear() method\n",
    "print(s)"
   ]
  },
  {
   "cell_type": "code",
   "execution_count": null,
   "metadata": {},
   "outputs": [],
   "source": [
    "#Python Set Operations\n",
    "set1 = {1,2,3,4,5}\n",
    "set2 = {3,4,5,6,7}\n",
    "print(set1 | set2)"
   ]
  },
  {
   "cell_type": "code",
   "execution_count": null,
   "metadata": {},
   "outputs": [],
   "source": [
    "#another way of getting union of 2 sets\n",
    "print(set1.union(set2))"
   ]
  },
  {
   "cell_type": "code",
   "execution_count": null,
   "metadata": {},
   "outputs": [],
   "source": [
    "#intersection\n",
    "print(set1 & set2)"
   ]
  },
  {
   "cell_type": "code",
   "execution_count": null,
   "metadata": {},
   "outputs": [],
   "source": [
    "#use intersection function\n",
    "print(set1.intersection(set2))"
   ]
  },
  {
   "cell_type": "code",
   "execution_count": null,
   "metadata": {},
   "outputs": [],
   "source": [
    "#set difference: set of elements that are only in set1 but not in set2\n",
    "print(set1 - set2)"
   ]
  },
  {
   "cell_type": "code",
   "execution_count": null,
   "metadata": {},
   "outputs": [],
   "source": [
    "print(set2 - set1)"
   ]
  },
  {
   "cell_type": "code",
   "execution_count": null,
   "metadata": {},
   "outputs": [],
   "source": [
    "#Symetric difference: set of elements in both set1 and set2\n",
    "# excepts those that are common in both sets\n",
    "#use ^ operator\n",
    "print(set1 ^ set2)"
   ]
  },
  {
   "cell_type": "code",
   "execution_count": null,
   "metadata": {},
   "outputs": [],
   "source": [
    "print(set1.symmetric_difference(set2))"
   ]
  },
  {
   "cell_type": "code",
   "execution_count": null,
   "metadata": {},
   "outputs": [],
   "source": [
    "# find issubset\n",
    "x = {\"a\", \"b\", \"c\", \"d\",\"e\"}\n",
    "y = {\"c\", \"d\"}\n",
    "print(\"set 'x' is a subset of 'y' ?\", x.issubset(y))\n",
    "print(\"set 'y' is a subset of 'x' ?\", y.issubset(x))"
   ]
  },
  {
   "cell_type": "code",
   "execution_count": null,
   "metadata": {},
   "outputs": [],
   "source": [
    "#Frozen Sets has the characteristics of sets, but we cant changed it once it has been assigned\n",
    "# While tuples are immputable lists, frozen sets are immutable sets\n",
    "# Frozensets can be created using fucntion frozenset()\n",
    "set1 = frozenset([1,2,3,4])\n",
    "set2 = frozenset([3,4,5,6])\n",
    "set1.add(5)\n",
    "print(set1[1]) #frozenset also does not support indexing"
   ]
  },
  {
   "cell_type": "code",
   "execution_count": null,
   "metadata": {},
   "outputs": [],
   "source": [
    "#forzenset supports all others operations like union, intersection etc."
   ]
  },
  {
   "cell_type": "code",
   "execution_count": null,
   "metadata": {},
   "outputs": [],
   "source": [
    "#Dictionary (Hashtable Data Structure)\n",
    "#Python Dictionary is unordered collection of items. While other compound data types\n",
    "# have only values as an element, a dictionary has a key value pair\n",
    "# Tuples and list are ordered, tuple is immutable while list us mutable.\n",
    "\n",
    "#CREATING DICTIONARY\n",
    "#empty dictionary\n",
    "my_dict = {}\n",
    "\n",
    "#dictionary with integer keys\n",
    "my_dict = {1: 'abc', 2: 'xyz'}\n",
    "print(my_dict)\n",
    "print(my_dict,1)\n",
    "\n",
    "#dictionary with mixed keys\n",
    "my_dict = {'name': 'satish', 1: ['abc','xyz']}\n",
    "print(my_dict)\n",
    "\n",
    "# create empty dictionary using dict()\n",
    "\n",
    "my_dict = dict()\n",
    "\n",
    "#create a dict with list of tuples\n",
    "my_dict = dict([(1, 'abc'), (2, 'xyz')])\n",
    "print(my_dict)\n",
    "\n"
   ]
  },
  {
   "cell_type": "code",
   "execution_count": null,
   "metadata": {},
   "outputs": [],
   "source": [
    "# Access Dictionary\n",
    "\n",
    "my_dict = {'name': 'satish', 'age': 27, 'address': 'guntur'}\n",
    "print(my_dict['name'])\n",
    "\n",
    "#another way to accessing key\n",
    "print(my_dict.get('address'))\n",
    "print(my_dict.get('degree'))\n"
   ]
  },
  {
   "cell_type": "code",
   "execution_count": null,
   "metadata": {},
   "outputs": [],
   "source": [
    "#dict ADD or Modify Elements\n",
    "my_dict = {'name': 'satish', 'age': 27, 'address': 'guntur'}\n",
    "#update name\n",
    "my_dict['name'] = 'raju'\n",
    "print(my_dict['name'])\n",
    "print(my_dict)\n",
    "\n",
    "# add a value\n",
    "my_dict['degree'] = 'M.Tech.'\n",
    "print(my_dict)"
   ]
  },
  {
   "cell_type": "code",
   "execution_count": null,
   "metadata": {},
   "outputs": [],
   "source": [
    "#Dictionary Delete or Remove Element\n",
    "my_dict = {'name': 'satish', 'age': 27, 'address': 'guntur'}\n",
    "print(my_dict.pop('age'))\n",
    "print(my_dict)"
   ]
  },
  {
   "cell_type": "code",
   "execution_count": null,
   "metadata": {},
   "outputs": [],
   "source": [
    "my_dict = {'name': 'satish', 'age': 27, 'address': 'guntur'}\n",
    "#remove an arbitrary key\n",
    "my_dict.popitem()"
   ]
  },
  {
   "cell_type": "code",
   "execution_count": null,
   "metadata": {},
   "outputs": [],
   "source": [
    "#delete items\n",
    "squares = {2:4, 3:9, 4:16, 5:25, 6:36}\n",
    "del squares[2]\n",
    "print(squares)"
   ]
  },
  {
   "cell_type": "code",
   "execution_count": null,
   "metadata": {},
   "outputs": [],
   "source": [
    "#removers all items\n",
    "squares.clear()\n",
    "print(squares)"
   ]
  },
  {
   "cell_type": "code",
   "execution_count": null,
   "metadata": {
    "scrolled": true
   },
   "outputs": [],
   "source": [
    "squares = {2:4, 3:9, 4:16, 5:25, 6:36}\n",
    "del squares\n",
    "print(squares)\n",
    "#as while dictionary is removed from the memory that is why \n",
    "#it is showing name error"
   ]
  },
  {
   "cell_type": "code",
   "execution_count": null,
   "metadata": {},
   "outputs": [],
   "source": [
    "squares = {2:4, 3:9, 4:16, 5:25, 6:36}\n",
    "my_dict1 = squares.copy()\n",
    "print(my_dict1)"
   ]
  },
  {
   "cell_type": "code",
   "execution_count": null,
   "metadata": {},
   "outputs": [],
   "source": [
    "#fromkeys[seq[,v]] -> Return a new dictionary with keys from seq and values\n",
    "subjects = {}.fromkeys(['Match','Physics','Hindi'],0)\n",
    "print(subjects)"
   ]
  },
  {
   "cell_type": "code",
   "execution_count": null,
   "metadata": {},
   "outputs": [],
   "source": [
    "squares = {2:4, 3:9, 4:16, 5:25, 6:36}\n",
    "print(squares.items())\n",
    "#returns a new view of the dictionary items (key, values)\\"
   ]
  },
  {
   "cell_type": "code",
   "execution_count": null,
   "metadata": {},
   "outputs": [],
   "source": [
    "squares = {2:4, 3:9, 4:16, 5:25, 6:36}\n",
    "print(squares.keys())"
   ]
  },
  {
   "cell_type": "code",
   "execution_count": null,
   "metadata": {},
   "outputs": [],
   "source": [
    "squares = {2:4, 3:9, 4:16, 5:25, 6:36}\n",
    "print(squares.values())"
   ]
  },
  {
   "cell_type": "code",
   "execution_count": null,
   "metadata": {},
   "outputs": [],
   "source": [
    "#get list of all available methods and attributes of dictionary\n",
    "d ={}\n",
    "print(dir(d))"
   ]
  },
  {
   "cell_type": "code",
   "execution_count": null,
   "metadata": {},
   "outputs": [],
   "source": [
    "#Dict Comprehension\n",
    "#Dict comprehension are just like list comprehensions but for dictionaries\n",
    "d = {'a': 1, 'b': 2, 'c':3}\n",
    "for pairs in d.items():\n",
    "    print(pairs)"
   ]
  },
  {
   "cell_type": "code",
   "execution_count": null,
   "metadata": {},
   "outputs": [],
   "source": [
    "#creating a new dictionary with only paires where the values is largers that 2\n",
    "\n",
    "d = {'a': 1, 'b': 2, 'c':3, 'd':4}\n",
    "for k,v in d.items():\n",
    "    if v>2:\n",
    "        print(k,v)"
   ]
  },
  {
   "cell_type": "code",
   "execution_count": null,
   "metadata": {},
   "outputs": [],
   "source": [
    "d = {'a': 1, 'b': 2, 'c': 3, 'd': 4}\n",
    "new_dict = {k:v for k, v in d.items() if v>2}\n",
    "print(new_dict)"
   ]
  },
  {
   "cell_type": "code",
   "execution_count": null,
   "metadata": {},
   "outputs": [],
   "source": [
    "#we can also perform operations on the key value pairs\n",
    "d = {'a': 1, 'b': 2, 'c': 3, 'd': 4, 'e':5}\n",
    "dd = {k + 'c': v *2 for k,v in d.items() if v>2}\n",
    "print(d)\n",
    "print(dd)"
   ]
  },
  {
   "cell_type": "code",
   "execution_count": null,
   "metadata": {},
   "outputs": [],
   "source": [
    "#Strings\n",
    "#In python, strings is a sequence of Unicode character \n",
    "mystring = \"Hello\"\n",
    "print(mystring)\n",
    "mystring = 'Hello'\n",
    "print(mystring)\n",
    "mystring='''Hello''' #for multi line comments  \n",
    "print(mystring)\n"
   ]
  },
  {
   "cell_type": "code",
   "execution_count": null,
   "metadata": {},
   "outputs": [],
   "source": [
    "#How to access characters in a string\n",
    "mystring = \"Hello\"\n",
    "print(mystring[0])\n",
    "print(mystring[-1])\n",
    "print(mystring[2:5])\n",
    "\n",
    "print(mystring[15]) #String index out of range\n",
    "print(mystring[1.5]) #string index must be an integer"
   ]
  },
  {
   "cell_type": "code",
   "execution_count": null,
   "metadata": {
    "scrolled": true
   },
   "outputs": [],
   "source": [
    "#HOW TO CHANGE OR DELETE a STRING\n",
    "# Strings are immutable just like tuple. This means that elemnets of\n",
    "# string cannot be changed once it is assigned.\n",
    "#We can simply reassign different strings to the same name.\n",
    "#However lists are mutable.\n",
    "\n",
    "mystring = \"Hello\"\n",
    "mystring[4] = 's' #strings are immutable\n"
   ]
  },
  {
   "cell_type": "code",
   "execution_count": null,
   "metadata": {},
   "outputs": [],
   "source": [
    "#WE cannot delete or remove characters from a string. But deleting the string\n",
    "#entirely is possible using the keyword del.\n",
    "del mystring #delete complete string\n"
   ]
  },
  {
   "cell_type": "code",
   "execution_count": null,
   "metadata": {},
   "outputs": [],
   "source": [
    "print(mystring)"
   ]
  },
  {
   "cell_type": "code",
   "execution_count": 30,
   "metadata": {},
   "outputs": [
    {
     "name": "stdout",
     "output_type": "stream",
     "text": [
      "Hello Satish\n",
      "HelloSatish\n",
      "HelloHelloHello\n",
      "New string variable: HelloHelloHello\n"
     ]
    }
   ],
   "source": [
    "#String Operations\n",
    "s1 = \"Hello\"\n",
    "s2 = \"Satish\"\n",
    "\n",
    "print(s1+\" \"+s2)\n",
    "print(s1 + s2)\n",
    "print(s1 * 3) #repeat string three times\n",
    "print('New string variable:',3* s1)\n"
   ]
  },
  {
   "cell_type": "code",
   "execution_count": null,
   "metadata": {},
   "outputs": [],
   "source": [
    "str = 'Python program'\n",
    "print(str[7:9]*3) #Repeats the seventh and eighth character three times"
   ]
  },
  {
   "cell_type": "code",
   "execution_count": null,
   "metadata": {},
   "outputs": [],
   "source": [
    "#Iteration through the string\n",
    "count = 0\n",
    "a = input()\n",
    "for l in \"hello world\":\n",
    "    if l == a:\n",
    "        count += 1\n",
    "print(count, 'letter found')"
   ]
  },
  {
   "cell_type": "code",
   "execution_count": 14,
   "metadata": {},
   "outputs": [
    {
     "name": "stdout",
     "output_type": "stream",
     "text": [
      "True\n"
     ]
    }
   ],
   "source": [
    "#String Membership Test\n",
    "print('l' in 'Hello World') #in operator to test membership"
   ]
  },
  {
   "cell_type": "markdown",
   "metadata": {},
   "source": []
  },
  {
   "cell_type": "code",
   "execution_count": 15,
   "metadata": {},
   "outputs": [
    {
     "name": "stdout",
     "output_type": "stream",
     "text": [
      "True\n"
     ]
    }
   ],
   "source": [
    "print('or' in 'Hello World')"
   ]
  },
  {
   "cell_type": "code",
   "execution_count": 18,
   "metadata": {},
   "outputs": [
    {
     "data": {
      "text/plain": [
       "'hello'"
      ]
     },
     "execution_count": 18,
     "metadata": {},
     "output_type": "execute_result"
    }
   ],
   "source": [
    "#String methods: some of the commonly used methods are \n",
    "#lower(), upper(), join(), split(), find(), replace()\n",
    "\"Hello\".lower()\n",
    "\n",
    "\n"
   ]
  },
  {
   "cell_type": "code",
   "execution_count": 19,
   "metadata": {},
   "outputs": [
    {
     "data": {
      "text/plain": [
       "'HELLO'"
      ]
     },
     "execution_count": 19,
     "metadata": {},
     "output_type": "execute_result"
    }
   ],
   "source": [
    "\"Hello\".upper()"
   ]
  },
  {
   "cell_type": "code",
   "execution_count": 20,
   "metadata": {},
   "outputs": [
    {
     "data": {
      "text/plain": [
       "['This', 'will', 'split', 'all', 'words', 'in', 'a', 'list']"
      ]
     },
     "execution_count": 20,
     "metadata": {},
     "output_type": "execute_result"
    }
   ],
   "source": [
    "\"This will split all words in a list\".split()"
   ]
  },
  {
   "cell_type": "code",
   "execution_count": 22,
   "metadata": {},
   "outputs": [
    {
     "data": {
      "text/plain": [
       "'This will split all words in a list'"
      ]
     },
     "execution_count": 22,
     "metadata": {},
     "output_type": "execute_result"
    }
   ],
   "source": [
    "' '.join(['This', 'will', 'split', 'all', 'words', 'in', 'a', 'list'])"
   ]
  },
  {
   "cell_type": "code",
   "execution_count": 23,
   "metadata": {},
   "outputs": [
    {
     "data": {
      "text/plain": [
       "5"
      ]
     },
     "execution_count": 23,
     "metadata": {},
     "output_type": "execute_result"
    }
   ],
   "source": [
    "\"Good Morning\".find(\"Mo\")"
   ]
  },
  {
   "cell_type": "code",
   "execution_count": 24,
   "metadata": {},
   "outputs": [
    {
     "data": {
      "text/plain": [
       "'This-will-split-all-words-in-a-list'"
      ]
     },
     "execution_count": 24,
     "metadata": {},
     "output_type": "execute_result"
    }
   ],
   "source": [
    "'-'.join(['This', 'will', 'split', 'all', 'words', 'in', 'a', 'list'])"
   ]
  },
  {
   "cell_type": "code",
   "execution_count": 32,
   "metadata": {},
   "outputs": [
    {
     "data": {
      "text/plain": [
       "'Good Morning'"
      ]
     },
     "execution_count": 32,
     "metadata": {},
     "output_type": "execute_result"
    }
   ],
   "source": [
    "\"Bad Morning\".replace(\"Bad\",\"Good\")"
   ]
  },
  {
   "cell_type": "code",
   "execution_count": 38,
   "metadata": {},
   "outputs": [
    {
     "name": "stdout",
     "output_type": "stream",
     "text": [
      "given String is Palindrome\n"
     ]
    }
   ],
   "source": [
    "#Python Program to check where a String is Palindrome or not?\n",
    "myStr = \"MadaM\"\n",
    "myStr = myStr.lower()\n",
    "revStr = reversed(myStr)\n",
    "\n",
    "#if myStr == revStr: (this will not work as both myStr and revStr is pointed to some other location in memory)\n",
    "if list(myStr)== list(revStr):\n",
    "    print(\"given String is Palindrome\")\n",
    "else:\n",
    "    print(\"given String is not a Palindrome\")"
   ]
  },
  {
   "cell_type": "code",
   "execution_count": 41,
   "metadata": {},
   "outputs": [
    {
     "name": "stdout",
     "output_type": "stream",
     "text": [
      "Alphabetic\n",
      "Order\n",
      "Program\n",
      "Python\n",
      "Sort\n",
      "Words\n",
      "in\n",
      "to\n"
     ]
    }
   ],
   "source": [
    "#Python Program to Sort Words in Alphbetic Order\n",
    "myStr = \"Python Program to Sort Words in Alphabetic Order\"\n",
    "words = myStr.split()\n",
    "words.sort()\n",
    "for word in words:\n",
    "    print(word)"
   ]
  },
  {
   "cell_type": "code",
   "execution_count": null,
   "metadata": {},
   "outputs": [],
   "source": []
  }
 ],
 "metadata": {
  "kernelspec": {
   "display_name": "Python 3",
   "language": "python",
   "name": "python3"
  },
  "language_info": {
   "codemirror_mode": {
    "name": "ipython",
    "version": 3
   },
   "file_extension": ".py",
   "mimetype": "text/x-python",
   "name": "python",
   "nbconvert_exporter": "python",
   "pygments_lexer": "ipython3",
   "version": "3.7.6"
  }
 },
 "nbformat": 4,
 "nbformat_minor": 4
}
